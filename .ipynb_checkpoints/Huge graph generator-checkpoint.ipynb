{
 "cells": [
  {
   "cell_type": "code",
   "execution_count": 19,
   "id": "93791c76",
   "metadata": {},
   "outputs": [],
   "source": [
    "import numpy as np\n",
    "import networkx as nx\n",
    "import time\n",
    "from pyvis.network import Network"
   ]
  },
  {
   "cell_type": "code",
   "execution_count": 6,
   "id": "20038665",
   "metadata": {},
   "outputs": [],
   "source": [
    "weight = np.array([0,1,np.inf])\n",
    "rng = np.random.default_rng()"
   ]
  },
  {
   "cell_type": "code",
   "execution_count": 9,
   "id": "cd0b95c8",
   "metadata": {},
   "outputs": [
    {
     "data": {
      "text/plain": [
       "array([ 1.,  0.,  0.,  0.,  1.,  1.,  1.,  1.,  0.,  1.,  1.,  1.,  0.,\n",
       "        1.,  0.,  0.,  1.,  1.,  1.,  1.,  0.,  0., inf, inf,  1.,  1.,\n",
       "        1.,  0.,  0.,  1., inf,  1.,  1.,  0.,  1.,  0., inf,  1.,  0.,\n",
       "        1.,  1.,  1.,  0.,  1.,  1., inf,  1.,  1.,  1.,  0.,  1.,  0.,\n",
       "       inf,  1.,  0.,  1., inf,  0.,  0.,  0.,  1.,  1.,  1.,  1.,  0.,\n",
       "        1.,  1.,  0.,  1.,  0.,  1.,  1.,  0., inf,  0.,  0.,  1.,  1.,\n",
       "        1., inf,  1.,  0., inf,  1., inf,  0.,  0.,  1., inf,  1., inf,\n",
       "        1.,  1.,  1., inf,  1., inf,  1.,  0.,  1.])"
      ]
     },
     "execution_count": 9,
     "metadata": {},
     "output_type": "execute_result"
    }
   ],
   "source": [
    "rng.choice(weight, size = 100, p = [0.4,0.5,0.1])"
   ]
  },
  {
   "cell_type": "code",
   "execution_count": 15,
   "id": "19946fae",
   "metadata": {},
   "outputs": [],
   "source": [
    "t_begin = time.time()\n",
    "G = nx.generators.random_graphs.dense_gnm_random_graph(15000,20000)\n",
    "t_end = time.time()"
   ]
  },
  {
   "cell_type": "code",
   "execution_count": 16,
   "id": "7930c4c1",
   "metadata": {},
   "outputs": [
    {
     "data": {
      "text/plain": [
       "88.15724754333496"
      ]
     },
     "execution_count": 16,
     "metadata": {},
     "output_type": "execute_result"
    }
   ],
   "source": [
    "t_end - t_begin"
   ]
  },
  {
   "cell_type": "code",
   "execution_count": 18,
   "id": "7f243fef",
   "metadata": {},
   "outputs": [],
   "source": [
    "for e in list(G.edges):\n",
    "    G.edges[e]['weight'] = rng.choice(weight, size = 1, p = [0.4,0.5,0.1])"
   ]
  },
  {
   "cell_type": "code",
   "execution_count": 22,
   "id": "cb1200dc",
   "metadata": {},
   "outputs": [],
   "source": [
    "Link_MG = G.copy()"
   ]
  },
  {
   "cell_type": "code",
   "execution_count": null,
   "id": "bd105e45",
   "metadata": {},
   "outputs": [],
   "source": []
  }
 ],
 "metadata": {
  "kernelspec": {
   "display_name": "Python 3",
   "language": "python",
   "name": "python3"
  },
  "language_info": {
   "codemirror_mode": {
    "name": "ipython",
    "version": 3
   },
   "file_extension": ".py",
   "mimetype": "text/x-python",
   "name": "python",
   "nbconvert_exporter": "python",
   "pygments_lexer": "ipython3",
   "version": "3.8.10"
  }
 },
 "nbformat": 4,
 "nbformat_minor": 5
}
