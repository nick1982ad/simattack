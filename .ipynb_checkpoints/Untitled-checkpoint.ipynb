{
 "cells": [
  {
   "cell_type": "markdown",
   "id": "133436ab",
   "metadata": {},
   "source": [
    "# Описание формата исходных данных"
   ]
  },
  {
   "cell_type": "markdown",
   "id": "7960d680",
   "metadata": {},
   "source": [
    "assets.json - описание активов модели\n",
    "\n",
    "Формат описания:  \n",
    "title - наименование актива, должно совпадать с используемым в матрице уязвимости и описании FT  \n",
    "valuable - признак ценности актива (сейчас не используется)  \n",
    "TTR - время восстановления актива (должно рассчитываться при подготовке входных данных симуляции, здесь - задается одним числом)  \n",
    "Network - список логических сегментов актива (массив строк)  \n",
    "Local - список локлаьных сегментов актива  \n",
    "Physical - список физических сегментов актива  \n",
    "\n",
    "FT.json - описание дерева неисправностей\n",
    "\n",
    "Корневой узел должен быть ровно один  \n",
    "каждый узел содержит атрибуты:  \n",
    "name - имя узла, совпадающее с атрибутом title в описании активов (assets.json)  \n",
    "impact - величина ущерба для узла дерева (по умолчанию - 0)  \n",
    "node_type - тип узла. Допустимые варианты:  \n",
    "basic - простое событие (лист дерева)  \n",
    "root - корневое событие (начало дерева)  \n",
    "and - логическое И  \n",
    "or - логическое ИЛИ  \n",
    "k from n - мажоритарное ИЛИ. Для типа \"k from n\" обязательно должен быть указан атрибут k (иначе будет принят k = 1)  \n",
    "childs - дочерние атрибуты. Не должно быть у атрибутов типа \"basic\" (проверка не реализована)  \n"
   ]
  },
  {
   "cell_type": "markdown",
   "id": "8d312c00",
   "metadata": {},
   "source": [
    "# Импорт библиотек"
   ]
  },
  {
   "cell_type": "code",
   "execution_count": 1,
   "id": "838ee780",
   "metadata": {},
   "outputs": [],
   "source": [
    "import pandas as pd\n",
    "import numpy as np\n",
    "from collections import OrderedDict\n",
    "import networkx as nx\n",
    "import matplotlib.pyplot as plt\n",
    "from pyvis.network import Network\n",
    "import json"
   ]
  },
  {
   "cell_type": "markdown",
   "id": "b153779a",
   "metadata": {},
   "source": [
    "# Чтение исходных данных"
   ]
  },
  {
   "cell_type": "code",
   "execution_count": 2,
   "id": "f6265276",
   "metadata": {},
   "outputs": [],
   "source": [
    "assets = pd.read_json('assets.json',orient='records')"
   ]
  },
  {
   "cell_type": "code",
   "execution_count": 3,
   "id": "d16312e9",
   "metadata": {},
   "outputs": [],
   "source": [
    "vulner = pd.read_excel('data.xlsx',sheet_name='Vulnerabilities', index_col='id')\n",
    "counter_m = pd.read_excel('data.xlsx',sheet_name='C-Measures', index_col='id')\n",
    "prevent_matrix = pd.read_excel('data.xlsx',sheet_name='Measures-Vuln-P', index_col='id', dtype=object)\n",
    "detect_matrix = pd.read_excel('data.xlsx',sheet_name='Measures-Vuln-D', index_col='id', dtype=object)\n",
    "vuln_matrix = pd.read_excel('data.xlsx',sheet_name='Assets-Vuln', index_col='title', dtype=object)\n",
    "#потенциал нарушителя\n",
    "k = 1 "
   ]
  },
  {
   "cell_type": "code",
   "execution_count": 4,
   "id": "156de9cf",
   "metadata": {},
   "outputs": [],
   "source": [
    "#перевод обозначений AV и PR в числа\n",
    "vulner.loc[vulner.AV == 'P','AV'] = -np.inf\n",
    "vulner.loc[vulner.AV == 'L','AV'] = 0\n",
    "vulner.loc[vulner.AV == 'A','AV'] = 1\n",
    "vulner.loc[vulner.AV == 'N','AV'] = 2\n",
    "\n",
    "vulner.loc[vulner.PR == 'N','PR'] = 0\n",
    "vulner.loc[vulner.PR == 'L','PR'] = 1\n",
    "vulner.loc[vulner.PR == 'H','PR'] = 2\n",
    "\n",
    "vulner.loc[vulner['s.AV'] == 'P','s.AV'] = np.inf\n",
    "vulner.loc[vulner['s.AV'] == 'L','s.AV'] = 0\n",
    "vulner.loc[vulner['s.AV'] == 'A','s.AV'] = 1\n",
    "vulner.loc[vulner['s.AV'] == 'N','s.AV'] = 2\n",
    "\n",
    "vulner.loc[vulner['s.PR'] == 'N','s.PR'] = 0\n",
    "vulner.loc[vulner['s.PR'] == 'L','s.PR'] = 1\n",
    "vulner.loc[vulner['s.PR'] == 'H','s.PR'] = 2"
   ]
  },
  {
   "cell_type": "code",
   "execution_count": 5,
   "id": "85078051",
   "metadata": {},
   "outputs": [],
   "source": [
    "#рассчитываем вероятность реализации уязвимости\n",
    "cont_counter_m = counter_m[counter_m['Период'] == 0]"
   ]
  },
  {
   "cell_type": "code",
   "execution_count": 6,
   "id": "2a29eb85",
   "metadata": {},
   "outputs": [],
   "source": [
    "for (vuln, prob) in prevent_matrix.iteritems():\n",
    "    vulner.at[vuln, 'P_v'] = (1 - prob[cont_counter_m.index]).prod() * k * vulner.at[vuln,'Prob']\n",
    "for (vuln, prob) in detect_matrix.iteritems():\n",
    "    vulner.at[vuln, 'P_d'] = 1 - (1 - prob[cont_counter_m.index]).prod()\n",
    "    "
   ]
  },
  {
   "cell_type": "markdown",
   "id": "345d8f4f",
   "metadata": {},
   "source": [
    "# Построение графа связности активов"
   ]
  },
  {
   "cell_type": "code",
   "execution_count": 7,
   "id": "c42aa8fa",
   "metadata": {},
   "outputs": [],
   "source": [
    "Link_MG = nx.Graph()"
   ]
  },
  {
   "cell_type": "code",
   "execution_count": 8,
   "id": "012256a7",
   "metadata": {},
   "outputs": [],
   "source": [
    "Link_MG.add_nodes_from(list(assets.loc[:,'title':'valuable'].to_dict(orient='index').items()))"
   ]
  },
  {
   "cell_type": "code",
   "execution_count": 9,
   "id": "db7f450a",
   "metadata": {},
   "outputs": [],
   "source": [
    "od_iter = OrderedDict()\n",
    "od_iter['Physical'] = np.inf\n",
    "od_iter['Network'] = 1\n",
    "od_iter['Local'] = 0"
   ]
  },
  {
   "cell_type": "code",
   "execution_count": 10,
   "id": "00e03c9e",
   "metadata": {
    "pycharm": {
     "name": "#%%\n"
    }
   },
   "outputs": [],
   "source": [
    "#d_iter = {'Physical': np.inf, 'Network': 1,'Local' : 0}\n",
    "for i in assets.index:\n",
    "    for j in assets.index:\n",
    "        if (i != j):\n",
    "            for (domain, weight) in od_iter.items():\n",
    "                if (len(set(assets.loc[i,domain]) & set(assets.loc[j,domain])) > 0):\n",
    "                    Link_MG.add_edge(i,j,weight = weight)          \n",
    "                    Link_MG[i][j]['label'] = weight\n"
   ]
  },
  {
   "cell_type": "code",
   "execution_count": 11,
   "id": "93991efb",
   "metadata": {
    "pycharm": {
     "name": "#%%\n"
    }
   },
   "outputs": [
    {
     "data": {
      "text/html": [
       "\n",
       "        <iframe\n",
       "            width=\"750px\"\n",
       "            height=\"750px\"\n",
       "            src=\"nx.html\"\n",
       "            frameborder=\"0\"\n",
       "            allowfullscreen\n",
       "        ></iframe>\n",
       "        "
      ],
      "text/plain": [
       "<IPython.lib.display.IFrame at 0x1ff9302d3a0>"
      ]
     },
     "execution_count": 11,
     "metadata": {},
     "output_type": "execute_result"
    }
   ],
   "source": [
    "nt = Network('750px','750px', notebook=True)\n",
    "\n",
    "# populates the nodes and edges data structures\n",
    "nt.from_nx(Link_MG)\n",
    "nt.show('nx.html')"
   ]
  },
  {
   "cell_type": "markdown",
   "id": "822dac04",
   "metadata": {},
   "source": [
    "# Построение графа переходов (всевозможных атак)"
   ]
  },
  {
   "cell_type": "code",
   "execution_count": 12,
   "id": "74ca12ba",
   "metadata": {
    "pycharm": {
     "name": "#%%\n"
    }
   },
   "outputs": [],
   "source": [
    "#CtxA\n",
    "def get_asset(df, col_name, val):\n",
    "    return df[df[col_name] == val]\n",
    "#CtxN\n",
    "def get_all_assets(df, col_name):\n",
    "    return df[col_name].unique()\n",
    "#Pr(a)\n",
    "def get_pr_asset(df, col_name, val, pr_col_name):\n",
    "    sub_df = df[df[col_name] == val]\n",
    "    if len(sub_df):\n",
    "        return df[df[col_name] == val][pr_col_name].max()\n",
    "    else:\n",
    "        return 0\n",
    "#PhAdj(a)\n",
    "def phys_adj(G, node):\n",
    "    return [n for n in G.neighbors(node) if G.edges[node,n]['weight'] == np.inf]"
   ]
  },
  {
   "cell_type": "code",
   "execution_count": 13,
   "id": "a3d80d34",
   "metadata": {
    "pycharm": {
     "name": "#%%\n"
    }
   },
   "outputs": [],
   "source": [
    "#задаем контекст\n",
    "cols = ['a_id', 'AV', 'PR', 'I']\n",
    "Ctx_0 = pd.DataFrame(columns = cols)\n",
    "Ctx_0 = Ctx_0.append({'a_id' : 4, 'AV' : 0, 'PR' : 0, 'I' : 0}, ignore_index = True)\n",
    "#Ctx_0 = Ctx_0.append({'a_id' : 5, 'AV' : 0, 'PR' : 0, 'I' : 0}, ignore_index = True)\n",
    "Ctx_0 = Ctx_0.append({'a_id' : 9, 'AV' : np.inf, 'PR' : 0, 'I' : 0}, ignore_index = True)\n"
   ]
  },
  {
   "cell_type": "code",
   "execution_count": 14,
   "id": "51574777",
   "metadata": {
    "pycharm": {
     "name": "#%%\n"
    }
   },
   "outputs": [],
   "source": [
    "G_dash = nx.MultiDiGraph()"
   ]
  },
  {
   "cell_type": "code",
   "execution_count": 15,
   "id": "c3bb2635",
   "metadata": {
    "pycharm": {
     "name": "#%%\n"
    }
   },
   "outputs": [],
   "source": [
    "#инциализация графа начальным контекстом\n",
    "G_dash.add_nodes_from(list(Ctx_0.index))\n",
    "#nx.set_node_attributes(G_dash, Ctx_0.to_dict(orient='index'))\n",
    "#вспомогательный DataFrame для более удобных выборок врешин (возможно не надо писать атрибуты в граф)\n",
    "A_df = pd.DataFrame(Ctx_0)\n",
    "\n",
    "#инициализация переменного контекста\n",
    "Ctx = pd.DataFrame(Ctx_0)"
   ]
  },
  {
   "cell_type": "code",
   "execution_count": 16,
   "id": "be2ec2c4",
   "metadata": {
    "pycharm": {
     "name": "#%%\n"
    }
   },
   "outputs": [],
   "source": [
    "#Основной цикл\n",
    "while len(Ctx.index):\n",
    "\n",
    "    #извлечь вершину из текущего контекста\n",
    "    a_begin = Ctx.iloc[-1]\n",
    "    Ctx = Ctx.drop([a_begin.name])\n",
    "    if a_begin['AV'] == np.inf:\n",
    "        a_end_list = phys_adj(Link_MG,a_begin['a_id'])\n",
    "        a_end_list.append(a_begin['a_id'])\n",
    "        for a_end_id in a_end_list:\n",
    "            a_name = assets.loc[a_end_id].title\n",
    "            pr_a = get_pr_asset(A_df, 'a_id', a_end_id, 'PR')\n",
    "            v_index = list(vuln_matrix[vuln_matrix[a_name] == 1].index)\n",
    "            v_sub_df = vulner.loc[v_index]\n",
    "            v_sub_df = v_sub_df[v_sub_df.PR <= pr_a]\n",
    "            for v_id, v_data in v_sub_df.iterrows():\n",
    "                str_search = \"(a_id == {a_id}) & (AV == {v_AV}) & (PR == {v_PR}) & (I == {I})\".format(\n",
    "                    a_id=a_end_id, \n",
    "                    v_AV = v_data['s.AV'], \n",
    "                    v_PR = v_data['s.PR'], \n",
    "                    I = v_data['Imp']\n",
    "                )\n",
    "                a_ex_ind = A_df.query(str_search).index\n",
    "                #не найдена такая вершина в графе\n",
    "                if len(a_ex_ind) == 0:\n",
    "                    a_dict = {'a_id' : a_end_id, 'AV' : v_data['s.AV'], 'PR' : v_data['s.PR'], 'I' : v_data['Imp']}\n",
    "                    A_df = A_df.append(a_dict, ignore_index = True)\n",
    "                    a_series = A_df.iloc[-1]\n",
    "                    a_ex_ind = a_series.name\n",
    "                    G_dash.add_node(int(a_ex_ind))\n",
    "                    if a_series['I'] == 0:\n",
    "                        Ctx = Ctx.append(A_df.iloc[a_ex_ind])\n",
    "                else:\n",
    "                    a_ex_ind = a_ex_ind[0]\n",
    "                G_dash.add_edge(int(a_begin.name), int(a_ex_ind), label = v_id)\n",
    "    else:\n",
    "        for a_end_id in Link_MG.nodes():\n",
    "            d = nx.shortest_path_length(Link_MG, source = a_begin['a_id'], target = a_end_id, weight = 'weight')\n",
    "            a_name = assets.loc[a_end_id].title\n",
    "            pr_a = get_pr_asset(A_df, 'a_id', a_end_id, 'PR')\n",
    "            v_index = list(vuln_matrix[vuln_matrix[a_name] == 1].index)\n",
    "            v_sub_df = vulner.loc[v_index]\n",
    "            v_sub_df = v_sub_df[(v_sub_df.PR <= pr_a) & (v_sub_df.AV >= a_begin['AV'] + d)]\n",
    "            for v_id, v_data in v_sub_df.iterrows():\n",
    "                str_search = \"(a_id == {a_id}) & (AV == {v_AV}) & (PR == {v_PR}) & (I == {I})\".format(\n",
    "                    a_id=a_end_id, \n",
    "                    v_AV = v_data['s.AV'], \n",
    "                    v_PR = v_data['s.PR'], \n",
    "                    I = v_data['Imp']\n",
    "                )\n",
    "                a_ex_ind = A_df.query(str_search).index\n",
    "                #не найдена такая вершина в графе\n",
    "                if len(a_ex_ind) == 0:\n",
    "                    a_dict = {'a_id' : a_end_id, 'AV' : v_data['s.AV'], 'PR' : v_data['s.PR'], 'I' : v_data['Imp']}\n",
    "                    A_df = A_df.append(a_dict, ignore_index = True)\n",
    "                    a_series = A_df.iloc[-1]\n",
    "                    a_ex_ind = a_series.name\n",
    "                    G_dash.add_node(int(a_ex_ind))\n",
    "                    if a_series['I'] == 0:\n",
    "                        Ctx = Ctx.append(A_df.iloc[a_ex_ind])\n",
    "                else:\n",
    "                    a_ex_ind = a_ex_ind[0]\n",
    "                G_dash.add_edge(int(a_begin.name), int(a_ex_ind), label = v_id)"
   ]
  },
  {
   "cell_type": "code",
   "execution_count": 17,
   "id": "51f0f4a2",
   "metadata": {},
   "outputs": [],
   "source": [
    "def mk_title(s):\n",
    "    s['title'] = '(' + str(s['a_id']) + ', ' + str(s['AV']) + ', ' + str(s['PR']) + ', ' + str(s['I']) + ')'\n",
    "    return s\n",
    "A_df['title'] = ''\n",
    "A_df = A_df.apply(mk_title, axis = 1)"
   ]
  },
  {
   "cell_type": "code",
   "execution_count": 18,
   "id": "7ea4c364",
   "metadata": {},
   "outputs": [],
   "source": [
    "A_df['color'] = 'blue'\n",
    "A_df.loc[Ctx_0.index,'color'] = 'green'\n",
    "A_df.loc[A_df.I == 1,'color'] = 'red'\n",
    "nx.set_node_attributes(G_dash, A_df.to_dict(orient='index'))"
   ]
  },
  {
   "cell_type": "code",
   "execution_count": 19,
   "id": "5e5457f5",
   "metadata": {},
   "outputs": [
    {
     "data": {
      "text/html": [
       "<div>\n",
       "<style scoped>\n",
       "    .dataframe tbody tr th:only-of-type {\n",
       "        vertical-align: middle;\n",
       "    }\n",
       "\n",
       "    .dataframe tbody tr th {\n",
       "        vertical-align: top;\n",
       "    }\n",
       "\n",
       "    .dataframe thead th {\n",
       "        text-align: right;\n",
       "    }\n",
       "</style>\n",
       "<table border=\"1\" class=\"dataframe\">\n",
       "  <thead>\n",
       "    <tr style=\"text-align: right;\">\n",
       "      <th></th>\n",
       "      <th>a_id</th>\n",
       "      <th>AV</th>\n",
       "      <th>PR</th>\n",
       "      <th>I</th>\n",
       "      <th>title</th>\n",
       "      <th>color</th>\n",
       "    </tr>\n",
       "  </thead>\n",
       "  <tbody>\n",
       "    <tr>\n",
       "      <th>0</th>\n",
       "      <td>4.0</td>\n",
       "      <td>0.0</td>\n",
       "      <td>0.0</td>\n",
       "      <td>0.0</td>\n",
       "      <td>(4, 0, 0, 0)</td>\n",
       "      <td>green</td>\n",
       "    </tr>\n",
       "    <tr>\n",
       "      <th>1</th>\n",
       "      <td>9.0</td>\n",
       "      <td>inf</td>\n",
       "      <td>0.0</td>\n",
       "      <td>0.0</td>\n",
       "      <td>(9.0, inf, 0.0, 0.0)</td>\n",
       "      <td>green</td>\n",
       "    </tr>\n",
       "    <tr>\n",
       "      <th>2</th>\n",
       "      <td>3.0</td>\n",
       "      <td>inf</td>\n",
       "      <td>0.0</td>\n",
       "      <td>0.0</td>\n",
       "      <td>(3.0, inf, 0.0, 0.0)</td>\n",
       "      <td>blue</td>\n",
       "    </tr>\n",
       "    <tr>\n",
       "      <th>3</th>\n",
       "      <td>8.0</td>\n",
       "      <td>inf</td>\n",
       "      <td>0.0</td>\n",
       "      <td>0.0</td>\n",
       "      <td>(8.0, inf, 0.0, 0.0)</td>\n",
       "      <td>blue</td>\n",
       "    </tr>\n",
       "    <tr>\n",
       "      <th>4</th>\n",
       "      <td>5.0</td>\n",
       "      <td>inf</td>\n",
       "      <td>0.0</td>\n",
       "      <td>1.0</td>\n",
       "      <td>(5.0, inf, 0.0, 1.0)</td>\n",
       "      <td>red</td>\n",
       "    </tr>\n",
       "    <tr>\n",
       "      <th>5</th>\n",
       "      <td>0.0</td>\n",
       "      <td>inf</td>\n",
       "      <td>0.0</td>\n",
       "      <td>1.0</td>\n",
       "      <td>(0.0, inf, 0.0, 1.0)</td>\n",
       "      <td>red</td>\n",
       "    </tr>\n",
       "    <tr>\n",
       "      <th>6</th>\n",
       "      <td>4.0</td>\n",
       "      <td>0.0</td>\n",
       "      <td>2.0</td>\n",
       "      <td>0.0</td>\n",
       "      <td>(4, 0, 2, 0)</td>\n",
       "      <td>blue</td>\n",
       "    </tr>\n",
       "    <tr>\n",
       "      <th>7</th>\n",
       "      <td>4.0</td>\n",
       "      <td>1.0</td>\n",
       "      <td>1.0</td>\n",
       "      <td>1.0</td>\n",
       "      <td>(4, 1, 1, 1)</td>\n",
       "      <td>red</td>\n",
       "    </tr>\n",
       "    <tr>\n",
       "      <th>8</th>\n",
       "      <td>4.0</td>\n",
       "      <td>inf</td>\n",
       "      <td>0.0</td>\n",
       "      <td>1.0</td>\n",
       "      <td>(4.0, inf, 0.0, 1.0)</td>\n",
       "      <td>red</td>\n",
       "    </tr>\n",
       "    <tr>\n",
       "      <th>9</th>\n",
       "      <td>1.0</td>\n",
       "      <td>0.0</td>\n",
       "      <td>1.0</td>\n",
       "      <td>0.0</td>\n",
       "      <td>(1, 0, 1, 0)</td>\n",
       "      <td>blue</td>\n",
       "    </tr>\n",
       "    <tr>\n",
       "      <th>10</th>\n",
       "      <td>1.0</td>\n",
       "      <td>0.0</td>\n",
       "      <td>2.0</td>\n",
       "      <td>0.0</td>\n",
       "      <td>(1, 0, 2, 0)</td>\n",
       "      <td>blue</td>\n",
       "    </tr>\n",
       "    <tr>\n",
       "      <th>11</th>\n",
       "      <td>2.0</td>\n",
       "      <td>1.0</td>\n",
       "      <td>1.0</td>\n",
       "      <td>1.0</td>\n",
       "      <td>(2, 1, 1, 1)</td>\n",
       "      <td>red</td>\n",
       "    </tr>\n",
       "    <tr>\n",
       "      <th>12</th>\n",
       "      <td>4.0</td>\n",
       "      <td>0.0</td>\n",
       "      <td>1.0</td>\n",
       "      <td>1.0</td>\n",
       "      <td>(4, 0, 1, 1)</td>\n",
       "      <td>red</td>\n",
       "    </tr>\n",
       "    <tr>\n",
       "      <th>13</th>\n",
       "      <td>6.0</td>\n",
       "      <td>0.0</td>\n",
       "      <td>1.0</td>\n",
       "      <td>0.0</td>\n",
       "      <td>(6, 0, 1, 0)</td>\n",
       "      <td>blue</td>\n",
       "    </tr>\n",
       "    <tr>\n",
       "      <th>14</th>\n",
       "      <td>6.0</td>\n",
       "      <td>0.0</td>\n",
       "      <td>2.0</td>\n",
       "      <td>0.0</td>\n",
       "      <td>(6, 0, 2, 0)</td>\n",
       "      <td>blue</td>\n",
       "    </tr>\n",
       "    <tr>\n",
       "      <th>15</th>\n",
       "      <td>7.0</td>\n",
       "      <td>1.0</td>\n",
       "      <td>1.0</td>\n",
       "      <td>1.0</td>\n",
       "      <td>(7, 1, 1, 1)</td>\n",
       "      <td>red</td>\n",
       "    </tr>\n",
       "    <tr>\n",
       "      <th>16</th>\n",
       "      <td>6.0</td>\n",
       "      <td>0.0</td>\n",
       "      <td>1.0</td>\n",
       "      <td>1.0</td>\n",
       "      <td>(6, 0, 1, 1)</td>\n",
       "      <td>red</td>\n",
       "    </tr>\n",
       "    <tr>\n",
       "      <th>17</th>\n",
       "      <td>7.0</td>\n",
       "      <td>0.0</td>\n",
       "      <td>1.0</td>\n",
       "      <td>1.0</td>\n",
       "      <td>(7, 0, 1, 1)</td>\n",
       "      <td>red</td>\n",
       "    </tr>\n",
       "    <tr>\n",
       "      <th>18</th>\n",
       "      <td>1.0</td>\n",
       "      <td>0.0</td>\n",
       "      <td>1.0</td>\n",
       "      <td>1.0</td>\n",
       "      <td>(1, 0, 1, 1)</td>\n",
       "      <td>red</td>\n",
       "    </tr>\n",
       "    <tr>\n",
       "      <th>19</th>\n",
       "      <td>2.0</td>\n",
       "      <td>0.0</td>\n",
       "      <td>1.0</td>\n",
       "      <td>1.0</td>\n",
       "      <td>(2, 0, 1, 1)</td>\n",
       "      <td>red</td>\n",
       "    </tr>\n",
       "  </tbody>\n",
       "</table>\n",
       "</div>"
      ],
      "text/plain": [
       "    a_id   AV   PR    I                 title  color\n",
       "0    4.0  0.0  0.0  0.0          (4, 0, 0, 0)  green\n",
       "1    9.0  inf  0.0  0.0  (9.0, inf, 0.0, 0.0)  green\n",
       "2    3.0  inf  0.0  0.0  (3.0, inf, 0.0, 0.0)   blue\n",
       "3    8.0  inf  0.0  0.0  (8.0, inf, 0.0, 0.0)   blue\n",
       "4    5.0  inf  0.0  1.0  (5.0, inf, 0.0, 1.0)    red\n",
       "5    0.0  inf  0.0  1.0  (0.0, inf, 0.0, 1.0)    red\n",
       "6    4.0  0.0  2.0  0.0          (4, 0, 2, 0)   blue\n",
       "7    4.0  1.0  1.0  1.0          (4, 1, 1, 1)    red\n",
       "8    4.0  inf  0.0  1.0  (4.0, inf, 0.0, 1.0)    red\n",
       "9    1.0  0.0  1.0  0.0          (1, 0, 1, 0)   blue\n",
       "10   1.0  0.0  2.0  0.0          (1, 0, 2, 0)   blue\n",
       "11   2.0  1.0  1.0  1.0          (2, 1, 1, 1)    red\n",
       "12   4.0  0.0  1.0  1.0          (4, 0, 1, 1)    red\n",
       "13   6.0  0.0  1.0  0.0          (6, 0, 1, 0)   blue\n",
       "14   6.0  0.0  2.0  0.0          (6, 0, 2, 0)   blue\n",
       "15   7.0  1.0  1.0  1.0          (7, 1, 1, 1)    red\n",
       "16   6.0  0.0  1.0  1.0          (6, 0, 1, 1)    red\n",
       "17   7.0  0.0  1.0  1.0          (7, 0, 1, 1)    red\n",
       "18   1.0  0.0  1.0  1.0          (1, 0, 1, 1)    red\n",
       "19   2.0  0.0  1.0  1.0          (2, 0, 1, 1)    red"
      ]
     },
     "execution_count": 19,
     "metadata": {},
     "output_type": "execute_result"
    }
   ],
   "source": [
    "A_df"
   ]
  },
  {
   "cell_type": "code",
   "execution_count": 20,
   "id": "e49c5022",
   "metadata": {
    "pycharm": {
     "name": "#%%\n"
    }
   },
   "outputs": [
    {
     "data": {
      "text/html": [
       "\n",
       "        <iframe\n",
       "            width=\"750px\"\n",
       "            height=\"750\"\n",
       "            src=\"nx1.html\"\n",
       "            frameborder=\"0\"\n",
       "            allowfullscreen\n",
       "        ></iframe>\n",
       "        "
      ],
      "text/plain": [
       "<IPython.lib.display.IFrame at 0x1ff91aa0b80>"
      ]
     },
     "execution_count": 20,
     "metadata": {},
     "output_type": "execute_result"
    }
   ],
   "source": [
    "nt = Network('750','750px', directed=True, notebook=True)\n",
    "\n",
    "# populates the nodes and edges data structures\n",
    "nt.from_nx(G_dash)\n",
    "#nt.show_buttons(filter_='physics')\n",
    "nt.set_options(\"\"\"\n",
    "var options = {\n",
    "  \"physics\": {\n",
    "    \"repulsion\": {\n",
    "      \"springLength\": 325,\n",
    "      \"springConstant\": 0\n",
    "    },\n",
    "    \"minVelocity\": 0.75,\n",
    "    \"solver\": \"repulsion\"\n",
    "  }\n",
    "}\n",
    "\"\"\"\n",
    ")\n",
    "nt.show('nx1.html')"
   ]
  },
  {
   "cell_type": "markdown",
   "id": "fae21df6",
   "metadata": {},
   "source": [
    "# Поиск оптимальной стратегии атаки"
   ]
  },
  {
   "cell_type": "markdown",
   "id": "595d7a82",
   "metadata": {},
   "source": [
    "## Построение минимального остова на графе переходов"
   ]
  },
  {
   "cell_type": "code",
   "execution_count": 21,
   "id": "c4ed9915",
   "metadata": {},
   "outputs": [],
   "source": [
    "for (u,v,d) in list(G_dash.edges):\n",
    "    v_id = G_dash.edges[u,v,d]['label']\n",
    "    P_v = vulner.at[v_id,'P_v']\n",
    "    P_d = vulner.at[v_id,'P_d']\n",
    "    G_dash.edges[u,v,d]['weight'] = -1 * np.log(P_v * (1 - P_d))\n",
    "    G_dash.edges[u,v,d]['raw_weight'] = P_v * (1 - P_d)\n",
    "    #print(G_dash.edges[u,v,d]['label'])"
   ]
  },
  {
   "cell_type": "code",
   "execution_count": 22,
   "id": "9ef08e33",
   "metadata": {},
   "outputs": [],
   "source": [
    "G_dash.add_node('start')"
   ]
  },
  {
   "cell_type": "code",
   "execution_count": 23,
   "id": "dee52d6b",
   "metadata": {},
   "outputs": [],
   "source": [
    "ctx_nodes = list(Ctx_0.index)"
   ]
  },
  {
   "cell_type": "code",
   "execution_count": 24,
   "id": "713d3207",
   "metadata": {},
   "outputs": [],
   "source": [
    "for u in ctx_nodes:\n",
    "    G_dash.add_edge('start', u, weight = 0, raw_weight = 1)"
   ]
  },
  {
   "cell_type": "code",
   "execution_count": 25,
   "id": "3a050f8d",
   "metadata": {},
   "outputs": [],
   "source": [
    "ids = A_df[A_df.I == 1]['a_id'].unique()\n",
    "for a_id in ids:\n",
    "    #fin_node = 'fin: ' + str(a_id)\n",
    "    fin_node = assets.at[a_id,'title']\n",
    "    G_dash.add_node(fin_node)\n",
    "    adj_fin = list(A_df[(A_df.a_id == a_id) & (A_df.I == 1)].index)\n",
    "    for fin_a_id in adj_fin:\n",
    "        G_dash.add_edge(fin_a_id, fin_node, weight = 0, raw_weight = 1)\n",
    "   "
   ]
  },
  {
   "cell_type": "code",
   "execution_count": 26,
   "id": "6e089e85",
   "metadata": {},
   "outputs": [],
   "source": [
    "B = nx.algorithms.tree.branchings.minimum_spanning_arborescence(G_dash,attr='weight', default=1, preserve_attrs=True)"
   ]
  },
  {
   "cell_type": "code",
   "execution_count": 27,
   "id": "6d1f6768",
   "metadata": {},
   "outputs": [
    {
     "data": {
      "text/html": [
       "\n",
       "        <iframe\n",
       "            width=\"750px\"\n",
       "            height=\"750\"\n",
       "            src=\"nx2.html\"\n",
       "            frameborder=\"0\"\n",
       "            allowfullscreen\n",
       "        ></iframe>\n",
       "        "
      ],
      "text/plain": [
       "<IPython.lib.display.IFrame at 0x1ff9302dbb0>"
      ]
     },
     "execution_count": 27,
     "metadata": {},
     "output_type": "execute_result"
    }
   ],
   "source": [
    "nt = Network('750','750px', directed=True, notebook=True)\n",
    "\n",
    "# populates the nodes and edges data structures\n",
    "nt.from_nx(B)\n",
    "nt.show_buttons(filter_=['edges'])\n",
    "#nt.set_options(\"\"\"\n",
    "#var options = {\n",
    "#  \"physics\": {\n",
    "#    \"repulsion\": {\n",
    "#      \"springLength\": 325,\n",
    "#      \"springConstant\": 0\n",
    "#    },\n",
    "#    \"minVelocity\": 0.75,\n",
    "#    \"solver\": \"repulsion\"\n",
    "#  }\n",
    "#}\n",
    "#\"\"\"\n",
    "#)\n",
    "nt.show('nx2.html')"
   ]
  },
  {
   "cell_type": "markdown",
   "id": "328513c2",
   "metadata": {},
   "source": [
    "## Редуцирование минимального остова до наиболее выгодных направлений атак на активы"
   ]
  },
  {
   "cell_type": "code",
   "execution_count": 28,
   "id": "9dca90ef",
   "metadata": {},
   "outputs": [],
   "source": [
    "was_del = True\n",
    "idx = list(A_df.index)\n",
    "while was_del:\n",
    "    was_del = False\n",
    "    for i in idx:\n",
    "        if (i in B) and (len(B.edges(i)) == 0):\n",
    "            B.remove_node(i)\n",
    "            was_del = True"
   ]
  },
  {
   "cell_type": "code",
   "execution_count": 29,
   "id": "5cda6134",
   "metadata": {},
   "outputs": [],
   "source": [
    "length = nx.single_source_dijkstra_path_length(B, 'start')"
   ]
  },
  {
   "cell_type": "code",
   "execution_count": 30,
   "id": "6dfc4440",
   "metadata": {},
   "outputs": [],
   "source": [
    "for n, l in length.items():\n",
    "    raw_l = np.exp(-l)\n",
    "    B.nodes[n]['raw_length'] = raw_l\n",
    "    B.nodes[n]['length'] = l\n",
    "    B.nodes[n]['title'] = 'w: ' + str(l) + ' rw: ' + str(raw_l)"
   ]
  },
  {
   "cell_type": "code",
   "execution_count": 31,
   "id": "48a63881",
   "metadata": {},
   "outputs": [
    {
     "data": {
      "text/html": [
       "\n",
       "        <iframe\n",
       "            width=\"750px\"\n",
       "            height=\"750\"\n",
       "            src=\"nx4.html\"\n",
       "            frameborder=\"0\"\n",
       "            allowfullscreen\n",
       "        ></iframe>\n",
       "        "
      ],
      "text/plain": [
       "<IPython.lib.display.IFrame at 0x1ff930353d0>"
      ]
     },
     "execution_count": 31,
     "metadata": {},
     "output_type": "execute_result"
    }
   ],
   "source": [
    "nt = Network('750','750px', directed=True, notebook=True)\n",
    "\n",
    "# populates the nodes and edges data structures\n",
    "nt.from_nx(B)\n",
    "#nt.show_buttons(filter_=['edges'])\n",
    "nt.set_options(\"\"\"\n",
    "var options = {\n",
    "  \"physics\": {\n",
    "    \"minVelocity\": 0.75,\n",
    "    \"solver\": \"repulsion\"\n",
    "  }\n",
    "}\n",
    "\"\"\"\n",
    ")\n",
    "nt.show('nx4.html')"
   ]
  },
  {
   "cell_type": "markdown",
   "id": "5d91d003",
   "metadata": {},
   "source": [
    "## Поиск оптимального разреза дерева неисправностей (минимум эелемнтов, максимум вероятности успеха незаметной атаки)"
   ]
  },
  {
   "cell_type": "code",
   "execution_count": 32,
   "id": "37a5c957",
   "metadata": {},
   "outputs": [],
   "source": [
    "def add_FT_nodes(tree, parent, child):\n",
    "    d_type = {\n",
    "        'basic': 0,\n",
    "        'or': 0,\n",
    "        'and': 1,\n",
    "        'root': 1\n",
    "    }\n",
    "    c_node = child['name']\n",
    "    #добавляем новую вершину дерева\n",
    "    tree.add_node(c_node, impact=child.get('impact', 0))\n",
    "    #смотрим на тип вершины и переводим в потерю\n",
    "    if child['node_type'] == 'k_from_n':\n",
    "        #мажоритарное или - потеря вершины = k - 1\n",
    "        tree.nodes[c_node]['loss'] = int(child['k']) - 1\n",
    "    else:\n",
    "        #в прочих случаях берем по словарю (или - 0, и - 1, по умолчанию - 0)\n",
    "        tree.nodes[c_node]['loss'] = d_type.get(child['node_type'], 0)\n",
    "    #если  не корень (parent отличается от None)\n",
    "    #добавляем ребро от потомка к предку (для последующего поиска потока)\n",
    "    #у всех ребер пропускная способность = 1\n",
    "    if parent:\n",
    "        tree.add_edge(c_node, parent, capacity=1)\n",
    "    #проходим рекурентно по всем детям\n",
    "    for c in child.get('childs', []):\n",
    "        #рекуррентно вызываем создание узлов\n",
    "        tree = add_FT_nodes(tree, c_node, c)\n",
    "    return tree\n",
    "#чтение файла с json описанием дерева неисправностей\n",
    "jf = open('FT.json','r',encoding='utf-8')\n",
    "FT_j = json.load(jf)\n",
    "\n",
    "FT = nx.DiGraph()\n",
    "#if len(FT_j) > 1:\n",
    "#    print('Неверное дерево неисправностей: более одного корня!')\n",
    "#    exit(1)\n",
    "FT = add_FT_nodes(FT, None, FT_j)\n",
    "root_name = FT_j['name']"
   ]
  },
  {
   "cell_type": "code",
   "execution_count": 33,
   "id": "72424508",
   "metadata": {},
   "outputs": [],
   "source": [
    "#добавляем сток для всех вентилей (вершины с ненулевыми потерями)\n",
    "#добавляем исток для всех листовых вершин\n",
    "FT.add_node('s')\n",
    "FT.add_node('t')\n",
    "for n in FT.nodes:\n",
    "    #пропускаем добавленные s и t\n",
    "    if (n != 's') and (n != 't'):\n",
    "        #если лист - то нужно добавить ребро от s к n\n",
    "        if FT.degree(n) - len(FT.edges(n)) == 0:\n",
    "            #TODO: необходимо добавить стоимость (для нахождения не просто минимального, но и оптимального набора вершин)\n",
    "            if n in B.nodes():\n",
    "                #ВАЖНО: алгоритм поиска максимального потока минимальной стоимости требует целочисленные веса (стоимости)\n",
    "                weight = int(np.round(B.nodes[n]['length'] * 1000))\n",
    "            FT.add_edge('s', n, capacity = 1 , weight = weight)\n",
    "        if int(FT.nodes[n]['loss']) > 0:\n",
    "            FT.add_edge(n,'t',capacity = int(FT.nodes[n]['loss']))\n"
   ]
  },
  {
   "cell_type": "code",
   "execution_count": 34,
   "id": "10b7ffe5",
   "metadata": {},
   "outputs": [],
   "source": [
    "flow_dict = nx.algorithms.flow.max_flow_min_cost(FT, s = 's', t = 't')"
   ]
  },
  {
   "cell_type": "code",
   "execution_count": 35,
   "id": "8160b9e6",
   "metadata": {},
   "outputs": [],
   "source": [
    "for (s_node, n_dict) in flow_dict.items():\n",
    "    for (t_node, flow) in n_dict.items():\n",
    "        FT.edges[s_node,t_node]['flow'] = flow"
   ]
  },
  {
   "cell_type": "code",
   "execution_count": 36,
   "id": "afa34734",
   "metadata": {},
   "outputs": [],
   "source": [
    "FT.remove_node('s')\n",
    "FT.remove_node('t')\n",
    "for e in list(FT.edges()):\n",
    "    if FT.edges[e].get('flow',0) == 0:\n",
    "        FT.remove_edge(*e)\n"
   ]
  },
  {
   "cell_type": "code",
   "execution_count": 37,
   "id": "d345a642",
   "metadata": {},
   "outputs": [],
   "source": [
    "FT_reduce = FT.subgraph(nx.shortest_path(FT.to_undirected(),root_name))"
   ]
  },
  {
   "cell_type": "code",
   "execution_count": 38,
   "id": "09e7ec20",
   "metadata": {
    "scrolled": false
   },
   "outputs": [
    {
     "data": {
      "text/html": [
       "\n",
       "        <iframe\n",
       "            width=\"750px\"\n",
       "            height=\"750\"\n",
       "            src=\"FT.html\"\n",
       "            frameborder=\"0\"\n",
       "            allowfullscreen\n",
       "        ></iframe>\n",
       "        "
      ],
      "text/plain": [
       "<IPython.lib.display.IFrame at 0x1ff93096520>"
      ]
     },
     "execution_count": 38,
     "metadata": {},
     "output_type": "execute_result"
    }
   ],
   "source": [
    "nt = Network('750','750px', directed=True, notebook=True)\n",
    "\n",
    "# populates the nodes and edges data structures\n",
    "nt.from_nx(FT_reduce)\n",
    "#nt.show_buttons(filter_=['physics'])\n",
    "#nt.set_options(\"\"\"\n",
    "#var options = {\n",
    "#  \"physics\": {\n",
    "#    \"repulsion\": {\n",
    "#      \"springLength\": 325,\n",
    "#      \"springConstant\": 0\n",
    "#    },\n",
    "#    \"minVelocity\": 0.75,\n",
    "#    \"solver\": \"repulsion\"\n",
    "#  }\n",
    "#}\n",
    "#\"\"\"\n",
    "#)\n",
    "nt.show('FT.html')"
   ]
  },
  {
   "cell_type": "code",
   "execution_count": 39,
   "id": "13861ab0",
   "metadata": {},
   "outputs": [
    {
     "data": {
      "text/plain": [
       "['SCADA1', 'Маршрутизатор1']"
      ]
     },
     "execution_count": 39,
     "metadata": {},
     "output_type": "execute_result"
    }
   ],
   "source": [
    "targets = []\n",
    "for n in FT_reduce.nodes():\n",
    "     if FT_reduce.degree(n) - len(FT_reduce.edges(n)) == 0:\n",
    "            targets.append(n)\n",
    "targets"
   ]
  },
  {
   "cell_type": "markdown",
   "id": "20153d3a",
   "metadata": {},
   "source": [
    "## Повторное редуцирование остова атак (оставляем только цели из оптимального разреза)"
   ]
  },
  {
   "cell_type": "code",
   "execution_count": 40,
   "id": "305365a7",
   "metadata": {},
   "outputs": [],
   "source": [
    "was_del = True\n",
    "while was_del:\n",
    "    was_del = False\n",
    "    for i in list(B.nodes()):\n",
    "        #print(str(i) + '  ' + str(B.edges(i)) + '\\n')\n",
    "        #удаляем все листовые вершины, не попавшие в targets\n",
    "        if (len(B.edges(i)) == 0) and not(i in targets):\n",
    "            B.remove_node(i)\n",
    "            was_del = True"
   ]
  },
  {
   "cell_type": "code",
   "execution_count": 41,
   "id": "c6145c3a",
   "metadata": {},
   "outputs": [
    {
     "data": {
      "text/plain": [
       "OutMultiEdgeDataView([])"
      ]
     },
     "execution_count": 41,
     "metadata": {},
     "output_type": "execute_result"
    }
   ],
   "source": [
    "B.edges('АРМ')"
   ]
  },
  {
   "cell_type": "code",
   "execution_count": 42,
   "id": "9f61f031",
   "metadata": {},
   "outputs": [
    {
     "data": {
      "text/html": [
       "\n",
       "        <iframe\n",
       "            width=\"750px\"\n",
       "            height=\"750\"\n",
       "            src=\"nx4.html\"\n",
       "            frameborder=\"0\"\n",
       "            allowfullscreen\n",
       "        ></iframe>\n",
       "        "
      ],
      "text/plain": [
       "<IPython.lib.display.IFrame at 0x1ff92fb3d30>"
      ]
     },
     "execution_count": 42,
     "metadata": {},
     "output_type": "execute_result"
    }
   ],
   "source": [
    "nt = Network('750','750px', directed=True, notebook=True)\n",
    "\n",
    "# populates the nodes and edges data structures\n",
    "nt.from_nx(B)\n",
    "#nt.show_buttons(filter_=['edges'])\n",
    "nt.set_options(\"\"\"\n",
    "var options = {\n",
    "  \"physics\": {\n",
    "    \"minVelocity\": 0.75,\n",
    "    \"solver\": \"repulsion\"\n",
    "  }\n",
    "}\n",
    "\"\"\"\n",
    ")\n",
    "nt.show('nx4.html')"
   ]
  },
  {
   "cell_type": "markdown",
   "id": "17a91890",
   "metadata": {},
   "source": [
    "# Различные проверки промежуточных результатов"
   ]
  },
  {
   "cell_type": "code",
   "execution_count": 43,
   "id": "0455f4c1",
   "metadata": {},
   "outputs": [],
   "source": [
    "#подсчет суммарной вероятности реализации сценария (результат в переменной prob)\n",
    "prob = 1\n",
    "summa = 0\n",
    "for (u,v,d) in list(B.edges):\n",
    "    prob = prob * B.edges[u,v,d]['raw_weight']\n",
    "    summa = summa + B.edges[u,v,d]['weight']"
   ]
  },
  {
   "cell_type": "code",
   "execution_count": 48,
   "id": "43a108e8",
   "metadata": {},
   "outputs": [
    {
     "data": {
      "text/html": [
       "<div>\n",
       "<style scoped>\n",
       "    .dataframe tbody tr th:only-of-type {\n",
       "        vertical-align: middle;\n",
       "    }\n",
       "\n",
       "    .dataframe tbody tr th {\n",
       "        vertical-align: top;\n",
       "    }\n",
       "\n",
       "    .dataframe thead th {\n",
       "        text-align: right;\n",
       "    }\n",
       "</style>\n",
       "<table border=\"1\" class=\"dataframe\">\n",
       "  <thead>\n",
       "    <tr style=\"text-align: right;\">\n",
       "      <th></th>\n",
       "      <th>a_id</th>\n",
       "      <th>AV</th>\n",
       "      <th>PR</th>\n",
       "      <th>I</th>\n",
       "      <th>title</th>\n",
       "      <th>color</th>\n",
       "    </tr>\n",
       "  </thead>\n",
       "  <tbody>\n",
       "    <tr>\n",
       "      <th>0</th>\n",
       "      <td>4.0</td>\n",
       "      <td>0.0</td>\n",
       "      <td>0.0</td>\n",
       "      <td>0.0</td>\n",
       "      <td>(4, 0, 0, 0)</td>\n",
       "      <td>green</td>\n",
       "    </tr>\n",
       "    <tr>\n",
       "      <th>1</th>\n",
       "      <td>9.0</td>\n",
       "      <td>inf</td>\n",
       "      <td>0.0</td>\n",
       "      <td>0.0</td>\n",
       "      <td>(9.0, inf, 0.0, 0.0)</td>\n",
       "      <td>green</td>\n",
       "    </tr>\n",
       "    <tr>\n",
       "      <th>2</th>\n",
       "      <td>3.0</td>\n",
       "      <td>inf</td>\n",
       "      <td>0.0</td>\n",
       "      <td>0.0</td>\n",
       "      <td>(3.0, inf, 0.0, 0.0)</td>\n",
       "      <td>blue</td>\n",
       "    </tr>\n",
       "    <tr>\n",
       "      <th>3</th>\n",
       "      <td>8.0</td>\n",
       "      <td>inf</td>\n",
       "      <td>0.0</td>\n",
       "      <td>0.0</td>\n",
       "      <td>(8.0, inf, 0.0, 0.0)</td>\n",
       "      <td>blue</td>\n",
       "    </tr>\n",
       "    <tr>\n",
       "      <th>4</th>\n",
       "      <td>5.0</td>\n",
       "      <td>inf</td>\n",
       "      <td>0.0</td>\n",
       "      <td>1.0</td>\n",
       "      <td>(5.0, inf, 0.0, 1.0)</td>\n",
       "      <td>red</td>\n",
       "    </tr>\n",
       "    <tr>\n",
       "      <th>5</th>\n",
       "      <td>0.0</td>\n",
       "      <td>inf</td>\n",
       "      <td>0.0</td>\n",
       "      <td>1.0</td>\n",
       "      <td>(0.0, inf, 0.0, 1.0)</td>\n",
       "      <td>red</td>\n",
       "    </tr>\n",
       "    <tr>\n",
       "      <th>6</th>\n",
       "      <td>4.0</td>\n",
       "      <td>0.0</td>\n",
       "      <td>2.0</td>\n",
       "      <td>0.0</td>\n",
       "      <td>(4, 0, 2, 0)</td>\n",
       "      <td>blue</td>\n",
       "    </tr>\n",
       "    <tr>\n",
       "      <th>7</th>\n",
       "      <td>4.0</td>\n",
       "      <td>1.0</td>\n",
       "      <td>1.0</td>\n",
       "      <td>1.0</td>\n",
       "      <td>(4, 1, 1, 1)</td>\n",
       "      <td>red</td>\n",
       "    </tr>\n",
       "    <tr>\n",
       "      <th>8</th>\n",
       "      <td>4.0</td>\n",
       "      <td>inf</td>\n",
       "      <td>0.0</td>\n",
       "      <td>1.0</td>\n",
       "      <td>(4.0, inf, 0.0, 1.0)</td>\n",
       "      <td>red</td>\n",
       "    </tr>\n",
       "    <tr>\n",
       "      <th>9</th>\n",
       "      <td>1.0</td>\n",
       "      <td>0.0</td>\n",
       "      <td>1.0</td>\n",
       "      <td>0.0</td>\n",
       "      <td>(1, 0, 1, 0)</td>\n",
       "      <td>blue</td>\n",
       "    </tr>\n",
       "    <tr>\n",
       "      <th>10</th>\n",
       "      <td>1.0</td>\n",
       "      <td>0.0</td>\n",
       "      <td>2.0</td>\n",
       "      <td>0.0</td>\n",
       "      <td>(1, 0, 2, 0)</td>\n",
       "      <td>blue</td>\n",
       "    </tr>\n",
       "    <tr>\n",
       "      <th>11</th>\n",
       "      <td>2.0</td>\n",
       "      <td>1.0</td>\n",
       "      <td>1.0</td>\n",
       "      <td>1.0</td>\n",
       "      <td>(2, 1, 1, 1)</td>\n",
       "      <td>red</td>\n",
       "    </tr>\n",
       "    <tr>\n",
       "      <th>12</th>\n",
       "      <td>4.0</td>\n",
       "      <td>0.0</td>\n",
       "      <td>1.0</td>\n",
       "      <td>1.0</td>\n",
       "      <td>(4, 0, 1, 1)</td>\n",
       "      <td>red</td>\n",
       "    </tr>\n",
       "    <tr>\n",
       "      <th>13</th>\n",
       "      <td>6.0</td>\n",
       "      <td>0.0</td>\n",
       "      <td>1.0</td>\n",
       "      <td>0.0</td>\n",
       "      <td>(6, 0, 1, 0)</td>\n",
       "      <td>blue</td>\n",
       "    </tr>\n",
       "    <tr>\n",
       "      <th>14</th>\n",
       "      <td>6.0</td>\n",
       "      <td>0.0</td>\n",
       "      <td>2.0</td>\n",
       "      <td>0.0</td>\n",
       "      <td>(6, 0, 2, 0)</td>\n",
       "      <td>blue</td>\n",
       "    </tr>\n",
       "    <tr>\n",
       "      <th>15</th>\n",
       "      <td>7.0</td>\n",
       "      <td>1.0</td>\n",
       "      <td>1.0</td>\n",
       "      <td>1.0</td>\n",
       "      <td>(7, 1, 1, 1)</td>\n",
       "      <td>red</td>\n",
       "    </tr>\n",
       "    <tr>\n",
       "      <th>16</th>\n",
       "      <td>6.0</td>\n",
       "      <td>0.0</td>\n",
       "      <td>1.0</td>\n",
       "      <td>1.0</td>\n",
       "      <td>(6, 0, 1, 1)</td>\n",
       "      <td>red</td>\n",
       "    </tr>\n",
       "    <tr>\n",
       "      <th>17</th>\n",
       "      <td>7.0</td>\n",
       "      <td>0.0</td>\n",
       "      <td>1.0</td>\n",
       "      <td>1.0</td>\n",
       "      <td>(7, 0, 1, 1)</td>\n",
       "      <td>red</td>\n",
       "    </tr>\n",
       "    <tr>\n",
       "      <th>18</th>\n",
       "      <td>1.0</td>\n",
       "      <td>0.0</td>\n",
       "      <td>1.0</td>\n",
       "      <td>1.0</td>\n",
       "      <td>(1, 0, 1, 1)</td>\n",
       "      <td>red</td>\n",
       "    </tr>\n",
       "    <tr>\n",
       "      <th>19</th>\n",
       "      <td>2.0</td>\n",
       "      <td>0.0</td>\n",
       "      <td>1.0</td>\n",
       "      <td>1.0</td>\n",
       "      <td>(2, 0, 1, 1)</td>\n",
       "      <td>red</td>\n",
       "    </tr>\n",
       "  </tbody>\n",
       "</table>\n",
       "</div>"
      ],
      "text/plain": [
       "    a_id   AV   PR    I                 title  color\n",
       "0    4.0  0.0  0.0  0.0          (4, 0, 0, 0)  green\n",
       "1    9.0  inf  0.0  0.0  (9.0, inf, 0.0, 0.0)  green\n",
       "2    3.0  inf  0.0  0.0  (3.0, inf, 0.0, 0.0)   blue\n",
       "3    8.0  inf  0.0  0.0  (8.0, inf, 0.0, 0.0)   blue\n",
       "4    5.0  inf  0.0  1.0  (5.0, inf, 0.0, 1.0)    red\n",
       "5    0.0  inf  0.0  1.0  (0.0, inf, 0.0, 1.0)    red\n",
       "6    4.0  0.0  2.0  0.0          (4, 0, 2, 0)   blue\n",
       "7    4.0  1.0  1.0  1.0          (4, 1, 1, 1)    red\n",
       "8    4.0  inf  0.0  1.0  (4.0, inf, 0.0, 1.0)    red\n",
       "9    1.0  0.0  1.0  0.0          (1, 0, 1, 0)   blue\n",
       "10   1.0  0.0  2.0  0.0          (1, 0, 2, 0)   blue\n",
       "11   2.0  1.0  1.0  1.0          (2, 1, 1, 1)    red\n",
       "12   4.0  0.0  1.0  1.0          (4, 0, 1, 1)    red\n",
       "13   6.0  0.0  1.0  0.0          (6, 0, 1, 0)   blue\n",
       "14   6.0  0.0  2.0  0.0          (6, 0, 2, 0)   blue\n",
       "15   7.0  1.0  1.0  1.0          (7, 1, 1, 1)    red\n",
       "16   6.0  0.0  1.0  1.0          (6, 0, 1, 1)    red\n",
       "17   7.0  0.0  1.0  1.0          (7, 0, 1, 1)    red\n",
       "18   1.0  0.0  1.0  1.0          (1, 0, 1, 1)    red\n",
       "19   2.0  0.0  1.0  1.0          (2, 0, 1, 1)    red"
      ]
     },
     "execution_count": 48,
     "metadata": {},
     "output_type": "execute_result"
    }
   ],
   "source": [
    "A_df"
   ]
  },
  {
   "cell_type": "code",
   "execution_count": 49,
   "id": "77ad41e9",
   "metadata": {},
   "outputs": [
    {
     "data": {
      "text/html": [
       "<div>\n",
       "<style scoped>\n",
       "    .dataframe tbody tr th:only-of-type {\n",
       "        vertical-align: middle;\n",
       "    }\n",
       "\n",
       "    .dataframe tbody tr th {\n",
       "        vertical-align: top;\n",
       "    }\n",
       "\n",
       "    .dataframe thead th {\n",
       "        text-align: right;\n",
       "    }\n",
       "</style>\n",
       "<table border=\"1\" class=\"dataframe\">\n",
       "  <thead>\n",
       "    <tr style=\"text-align: right;\">\n",
       "      <th></th>\n",
       "      <th>title</th>\n",
       "      <th>valuable</th>\n",
       "      <th>TTR</th>\n",
       "      <th>Network</th>\n",
       "      <th>Local</th>\n",
       "      <th>Physical</th>\n",
       "    </tr>\n",
       "  </thead>\n",
       "  <tbody>\n",
       "    <tr>\n",
       "      <th>0</th>\n",
       "      <td>Сервер1</td>\n",
       "      <td>1</td>\n",
       "      <td>10</td>\n",
       "      <td>[Сеть1]</td>\n",
       "      <td>[Сервер1]</td>\n",
       "      <td>[Помещение1]</td>\n",
       "    </tr>\n",
       "    <tr>\n",
       "      <th>1</th>\n",
       "      <td>ОС Server</td>\n",
       "      <td>0</td>\n",
       "      <td>2</td>\n",
       "      <td>[Сеть1]</td>\n",
       "      <td>[Сервер1]</td>\n",
       "      <td>[]</td>\n",
       "    </tr>\n",
       "    <tr>\n",
       "      <th>2</th>\n",
       "      <td>SCADA1</td>\n",
       "      <td>1</td>\n",
       "      <td>5</td>\n",
       "      <td>[Сеть1]</td>\n",
       "      <td>[Сервер1]</td>\n",
       "      <td>[]</td>\n",
       "    </tr>\n",
       "    <tr>\n",
       "      <th>3</th>\n",
       "      <td>Помещение1</td>\n",
       "      <td>0</td>\n",
       "      <td>0</td>\n",
       "      <td>[]</td>\n",
       "      <td>[]</td>\n",
       "      <td>[Здание1, Помещение1]</td>\n",
       "    </tr>\n",
       "    <tr>\n",
       "      <th>4</th>\n",
       "      <td>Маршрутизатор1</td>\n",
       "      <td>1</td>\n",
       "      <td>10</td>\n",
       "      <td>[Сеть1, Сеть2]</td>\n",
       "      <td>[Маршрутизатор1]</td>\n",
       "      <td>[Помещение1]</td>\n",
       "    </tr>\n",
       "    <tr>\n",
       "      <th>5</th>\n",
       "      <td>АРМ1</td>\n",
       "      <td>0</td>\n",
       "      <td>5</td>\n",
       "      <td>[Сеть2]</td>\n",
       "      <td>[АРМ1]</td>\n",
       "      <td>[Помещение2]</td>\n",
       "    </tr>\n",
       "    <tr>\n",
       "      <th>6</th>\n",
       "      <td>ОС АРМ</td>\n",
       "      <td>0</td>\n",
       "      <td>2</td>\n",
       "      <td>[Сеть2]</td>\n",
       "      <td>[АРМ1]</td>\n",
       "      <td>[]</td>\n",
       "    </tr>\n",
       "    <tr>\n",
       "      <th>7</th>\n",
       "      <td>SCADA client</td>\n",
       "      <td>1</td>\n",
       "      <td>2</td>\n",
       "      <td>[Сеть2]</td>\n",
       "      <td>[АРМ1]</td>\n",
       "      <td>[]</td>\n",
       "    </tr>\n",
       "    <tr>\n",
       "      <th>8</th>\n",
       "      <td>Помещение2</td>\n",
       "      <td>0</td>\n",
       "      <td>0</td>\n",
       "      <td>[]</td>\n",
       "      <td>[]</td>\n",
       "      <td>[Здание1, Помещение2]</td>\n",
       "    </tr>\n",
       "    <tr>\n",
       "      <th>9</th>\n",
       "      <td>Здание1</td>\n",
       "      <td>0</td>\n",
       "      <td>0</td>\n",
       "      <td>[]</td>\n",
       "      <td>[]</td>\n",
       "      <td>[Здание1]</td>\n",
       "    </tr>\n",
       "  </tbody>\n",
       "</table>\n",
       "</div>"
      ],
      "text/plain": [
       "            title  valuable  TTR         Network             Local  \\\n",
       "0         Сервер1         1   10         [Сеть1]         [Сервер1]   \n",
       "1       ОС Server         0    2         [Сеть1]         [Сервер1]   \n",
       "2          SCADA1         1    5         [Сеть1]         [Сервер1]   \n",
       "3      Помещение1         0    0              []                []   \n",
       "4  Маршрутизатор1         1   10  [Сеть1, Сеть2]  [Маршрутизатор1]   \n",
       "5            АРМ1         0    5         [Сеть2]            [АРМ1]   \n",
       "6          ОС АРМ         0    2         [Сеть2]            [АРМ1]   \n",
       "7    SCADA client         1    2         [Сеть2]            [АРМ1]   \n",
       "8      Помещение2         0    0              []                []   \n",
       "9         Здание1         0    0              []                []   \n",
       "\n",
       "                Physical  \n",
       "0           [Помещение1]  \n",
       "1                     []  \n",
       "2                     []  \n",
       "3  [Здание1, Помещение1]  \n",
       "4           [Помещение1]  \n",
       "5           [Помещение2]  \n",
       "6                     []  \n",
       "7                     []  \n",
       "8  [Здание1, Помещение2]  \n",
       "9              [Здание1]  "
      ]
     },
     "execution_count": 49,
     "metadata": {},
     "output_type": "execute_result"
    }
   ],
   "source": [
    "assets"
   ]
  },
  {
   "cell_type": "code",
   "execution_count": 45,
   "id": "284dd117",
   "metadata": {},
   "outputs": [
    {
     "data": {
      "text/plain": [
       "0.0005759999999999994"
      ]
     },
     "execution_count": 45,
     "metadata": {},
     "output_type": "execute_result"
    }
   ],
   "source": [
    "np.exp(-summa)"
   ]
  },
  {
   "cell_type": "code",
   "execution_count": 46,
   "id": "5a1ee5e6",
   "metadata": {},
   "outputs": [],
   "source": [
    "prob_all = 1\n",
    "for (u,v,d) in list(G_dash.edges):\n",
    "    prob_all = prob_all * G_dash.edges[u,v,d]['raw_weight']"
   ]
  },
  {
   "cell_type": "code",
   "execution_count": 47,
   "id": "24108768",
   "metadata": {},
   "outputs": [
    {
     "data": {
      "text/plain": [
       "3.9313892808008755e-98"
      ]
     },
     "execution_count": 47,
     "metadata": {},
     "output_type": "execute_result"
    }
   ],
   "source": [
    "prob_all"
   ]
  },
  {
   "cell_type": "code",
   "execution_count": null,
   "id": "6c7f6576",
   "metadata": {},
   "outputs": [],
   "source": []
  }
 ],
 "metadata": {
  "kernelspec": {
   "display_name": "Python 3",
   "language": "python",
   "name": "python3"
  },
  "language_info": {
   "codemirror_mode": {
    "name": "ipython",
    "version": 3
   },
   "file_extension": ".py",
   "mimetype": "text/x-python",
   "name": "python",
   "nbconvert_exporter": "python",
   "pygments_lexer": "ipython3",
   "version": "3.8.10"
  }
 },
 "nbformat": 4,
 "nbformat_minor": 5
}
