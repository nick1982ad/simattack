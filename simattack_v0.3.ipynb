{
 "cells": [
  {
   "cell_type": "markdown",
   "id": "133436ab",
   "metadata": {},
   "source": [
    "# Описание формата исходных данных"
   ]
  },
  {
   "cell_type": "markdown",
   "id": "7960d680",
   "metadata": {},
   "source": [
    "assets.json - описание активов модели\n",
    "\n",
    "Формат описания:  \n",
    "title - наименование актива, должно совпадать с используемым в матрице уязвимости и описании FT  \n",
    "valuable - признак ценности актива (сейчас не используется)  \n",
    "TTR - время восстановления актива (должно рассчитываться при подготовке входных данных симуляции, здесь - задается одним числом)  \n",
    "Network - список логических сегментов актива (массив строк)  \n",
    "Local - список локлаьных сегментов актива  \n",
    "Physical - список физических сегментов актива  \n",
    "\n",
    "FT.json - описание дерева неисправностей\n",
    "\n",
    "Корневой узел должен быть ровно один  \n",
    "каждый узел содержит атрибуты:  \n",
    "name - имя узла, совпадающее с атрибутом title в описании активов (assets.json)  \n",
    "impact - величина ущерба для узла дерева (по умолчанию - 0)  \n",
    "node_type - тип узла. Допустимые варианты:  \n",
    "basic - простое событие (лист дерева)  \n",
    "root - корневое событие (начало дерева)  \n",
    "and - логическое И  \n",
    "or - логическое ИЛИ  \n",
    "k from n - мажоритарное ИЛИ. Для типа \"k from n\" обязательно должен быть указан атрибут k (иначе будет принят k = 1)  \n",
    "childs - дочерние атрибуты. Не должно быть у атрибутов типа \"basic\" (проверка не реализована)  \n"
   ]
  },
  {
   "cell_type": "markdown",
   "id": "01df1b25",
   "metadata": {},
   "source": []
  },
  {
   "cell_type": "markdown",
   "id": "8d312c00",
   "metadata": {
    "pycharm": {
     "name": "#%% md\n"
    }
   },
   "source": [
    "# Импорт библиотек"
   ]
  },
  {
   "cell_type": "code",
   "execution_count": 1,
   "id": "40173896",
   "metadata": {
    "ExecuteTime": {
     "end_time": "2022-05-11T11:04:02.710222Z",
     "start_time": "2022-05-11T11:04:02.690282Z"
    },
    "pycharm": {
     "name": "#%%\n"
    }
   },
   "outputs": [
    {
     "data": {
      "text/plain": [
       "'.'"
      ]
     },
     "execution_count": 1,
     "metadata": {},
     "output_type": "execute_result"
    }
   ],
   "source": [
    "import os\n",
    "os.path.curdir\n"
   ]
  },
  {
   "cell_type": "code",
   "execution_count": 2,
   "id": "838ee780",
   "metadata": {
    "ExecuteTime": {
     "end_time": "2022-05-11T11:04:05.346657Z",
     "start_time": "2022-05-11T11:04:03.060607Z"
    },
    "pycharm": {
     "name": "#%%\n"
    }
   },
   "outputs": [],
   "source": [
    "import pandas as pd\n",
    "import numpy as np\n",
    "from collections import OrderedDict\n",
    "from collections import defaultdict\n",
    "import networkx as nx\n",
    "import matplotlib.pyplot as plt\n",
    "from pyvis.network import Network\n",
    "import json\n",
    "import random\n",
    "import time\n",
    "import oct_read\n",
    "from scipy.stats import rankdata"
   ]
  },
  {
   "cell_type": "markdown",
   "id": "b153779a",
   "metadata": {
    "pycharm": {
     "name": "#%% md\n"
    }
   },
   "source": [
    "# Чтение исходных данных"
   ]
  },
  {
   "cell_type": "code",
   "execution_count": 3,
   "id": "f6265276",
   "metadata": {
    "ExecuteTime": {
     "end_time": "2022-05-11T11:04:05.393346Z",
     "start_time": "2022-05-11T11:04:05.380541Z"
    }
   },
   "outputs": [],
   "source": [
    "#Data_Format = 'Native'\n",
    "Data_Format = 'Octonica'\n",
    "nb = True\n",
    "\n",
    "if Data_Format == 'Native':\n",
    "    import os\n",
    "    #os.chdir('D:\\Google\\work\\ПОАР\\Model\\simattack')\n",
    "    input_data = 'split-example-sub2'\n",
    "elif Data_Format == 'Octonica':\n",
    "    json_name = '.\\\\Octonica\\\\файл_для_отладки_симуляции_23_12_2021.json'\n",
    "    sub_name = ['Подсистема1', 'Подсистема2']\n",
    "    input_data = 'Octonica'\n",
    "    #первый в списке\n",
    "    intruder_id = 'fdaec6d3-e8f3-4206-b71d-01774404c129'\n",
    "    #второй в списке\n",
    "    #intruder_id = '603663d5-b312-46b3-9916-ab7d67474b00'\n",
    "    \n",
    "\n",
    "\n",
    "\n",
    "\n",
    "\n",
    "\n",
    "\n"
   ]
  },
  {
   "cell_type": "code",
   "execution_count": 4,
   "id": "a3d80d34",
   "metadata": {
    "ExecuteTime": {
     "end_time": "2022-05-11T11:04:05.577640Z",
     "start_time": "2022-05-11T11:04:05.425096Z"
    },
    "pycharm": {
     "name": "#%%\n"
    }
   },
   "outputs": [
    {
     "name": "stderr",
     "output_type": "stream",
     "text": [
      "D:\\YandexDisk\\work\\ПОАР\\Model\\simattack\\simattack\\oct_read.py:218: UserWarning: Boolean Series key will be reindexed to match DataFrame index.\n",
      "  p_idx = list(counter_m.loc[p_idx][counter_m['Период'] == 0].index)\n"
     ]
    }
   ],
   "source": [
    "if Data_Format == 'Native':\n",
    "    assets = pd.read_json('.\\\\' + input_data + '\\\\assets.json',orient='records')\n",
    "    #задаем контекст\n",
    "    cols = ['a_id', 'AV', 'PR', 'I']\n",
    "    Ctx_0 = pd.DataFrame(columns = cols)\n",
    "    #___________________контекст для example1___________________________________________\n",
    "    #Ctx_0 = Ctx_0.append({'a_id' : 4, 'AV' : 0, 'PR' : 0, 'I' : 0}, ignore_index = True)\n",
    "    #Ctx_0 = Ctx_0.append({'a_id' : 9, 'AV' : np.inf, 'PR' : 0, 'I' : 0}, ignore_index = True)\n",
    "    #___________________контекст для minimal___________________________________________\n",
    "    #Ctx_0 = Ctx_0.append({'a_id' : 0, 'AV' : 0, 'PR' : 0, 'I' : 0}, ignore_index = True)\n",
    "    #Ctx_0 = Ctx_0.append({'a_id' : 1, 'AV' : 0, 'PR' : 0, 'I' : 0}, ignore_index = True)\n",
    "    #___________________контекст для split-example___________________________________________\n",
    "    #Ctx_0 = Ctx_0.append({'a_id' : 4, 'AV' : 0, 'PR' : 0, 'I' : 0}, ignore_index = True)\n",
    "    #Ctx_0 = Ctx_0.append({'a_id' : 9, 'AV' : np.inf, 'PR' : 0, 'I' : 0}, ignore_index = True)\n",
    "    #Ctx_0 = Ctx_0.append({'a_id' : 5, 'AV' : 1, 'PR' : 0, 'I' : 0}, ignore_index = True)\n",
    "    #___________________контекст для split-example-sub1___________________________________________\n",
    "    #Ctx_0 = Ctx_0.append({'a_id' : 4, 'AV' : 0, 'PR' : 0, 'I' : 0}, ignore_index = True)\n",
    "    #Ctx_0 = Ctx_0.append({'a_id' : 5, 'AV' : np.inf, 'PR' : 0, 'I' : 0}, ignore_index = True)\n",
    "    #___________________контекст для split-example-sub2___________________________________________\n",
    "    Ctx_0 = Ctx_0.append({'a_id' : 0, 'AV' : 1, 'PR' : 0, 'I' : 0}, ignore_index = True)\n",
    "    #Ctx_0 = Ctx_0.append({'a_id' : 4, 'AV' : np.inf, 'PR' : 0, 'I' : 0}, ignore_index = True)\n",
    "    vulner = pd.read_excel('.\\\\' + input_data + '\\\\data.xlsx',sheet_name='Vulnerabilities', index_col='id')\n",
    "    counter_m = pd.read_excel('.\\\\' + input_data + '\\\\data.xlsx',sheet_name='C-Measures', index_col='id')\n",
    "    prevent_matrix = pd.read_excel('.\\\\' + input_data + '\\\\data.xlsx',sheet_name='Measures-Vuln-P', index_col='id', dtype=object)\n",
    "    detect_matrix = pd.read_excel('.\\\\' + input_data + '\\\\data.xlsx',sheet_name='Measures-Vuln-D', index_col='id', dtype=object)\n",
    "    vuln_matrix = pd.read_excel('.\\\\' + input_data + '\\\\data.xlsx',sheet_name='Assets-Vuln', index_col='title', dtype=object)\n",
    "    #потенциал нарушителя\n",
    "    k = 1\n",
    "    #перевод обозначений AV и PR в числа\n",
    "    vulner.loc[vulner.AV == 'P','AV'] = -np.inf\n",
    "    vulner.loc[vulner.AV == 'L','AV'] = 0\n",
    "    vulner.loc[vulner.AV == 'A','AV'] = 1\n",
    "    vulner.loc[vulner.AV == 'N','AV'] = 2\n",
    "\n",
    "    vulner.loc[vulner.PR == 'N','PR'] = 0\n",
    "    vulner.loc[vulner.PR == 'L','PR'] = 1\n",
    "    vulner.loc[vulner.PR == 'H','PR'] = 2\n",
    "\n",
    "    vulner.loc[vulner['s.AV'] == 'P','s.AV'] = np.inf\n",
    "    vulner.loc[vulner['s.AV'] == 'L','s.AV'] = 0\n",
    "    vulner.loc[vulner['s.AV'] == 'A','s.AV'] = 1\n",
    "    vulner.loc[vulner['s.AV'] == 'N','s.AV'] = 2\n",
    "\n",
    "    vulner.loc[vulner['s.PR'] == 'N','s.PR'] = 0\n",
    "    vulner.loc[vulner['s.PR'] == 'L','s.PR'] = 1\n",
    "    vulner.loc[vulner['s.PR'] == 'H','s.PR'] = 2\n",
    "    #рассчитываем вероятность реализации уязвимости\n",
    "    cont_counter_m = counter_m[counter_m['Период'] == 0]\n",
    "    for (vuln, prob) in prevent_matrix.iteritems():\n",
    "        vulner.at[vuln, 'P_v'] = (1 - prob[cont_counter_m.index]).prod() * k * vulner.at[vuln,'Prob']\n",
    "    for (vuln, prob) in detect_matrix.iteritems():\n",
    "        vulner.at[vuln, 'P_d'] = 1 - (1 - prob[cont_counter_m.index]).prod()\n",
    "elif Data_Format == 'Octonica':\n",
    "    data_j = oct_read.init_json(json_name)\n",
    "    sub_id = oct_read.get_sub_id(data_j,sub_name)\n",
    "    (assets_filtered, assets) = oct_read.get_assets_df(data_j,sub_id)\n",
    "    Ctx_0 = oct_read.get_ctx0(data_j)\n",
    "    Ctx_0 = Ctx_0.query('intruderId == @intruder_id')\n",
    "    Ctx_0 = Ctx_0.drop(['intruderId'], axis = 1)\n",
    "    (counter_m, vulners_assets_dict) = oct_read.get_vulners_cmeasures(data_j, assets_filtered, intruder_id)\n",
    "    \n",
    "assets['t_recover'] = 0\n",
    "#периодические меры\n",
    "t_measures = counter_m[counter_m['Период'] != 0]\n",
    "\n"
   ]
  },
  {
   "cell_type": "code",
   "execution_count": 5,
   "id": "a83aa00f",
   "metadata": {
    "ExecuteTime": {
     "end_time": "2022-05-11T11:04:05.684383Z",
     "start_time": "2022-05-11T11:04:05.670390Z"
    }
   },
   "outputs": [],
   "source": [
    "#создание словаря, где ключ - id контрмеры, а значение - порядковый номер соответствующей строки в DF контрмер\n",
    "c_id_dict = dict(zip(list(counter_m.index),range(len(counter_m.index))))\n",
    "\n",
    "vuln_df = pd.json_normalize(data_j['vulnerabilities'])\n",
    "#создание словаря, где ключ - id уязвимости, а значение - порядковый номер соответствующей строки в DF уязвимостей\n",
    "vuln_df = vuln_df.set_index('id')\n",
    "v_id_dict = dict(zip(list(vuln_df.index),range(len(vuln_df.index))))\n",
    "\n",
    "#создание словаря, где ключ - id актива, а значение - порядковый номер соответствующей строки в DF активов\n",
    "a_id_dict = dict(zip(list(assets.index),range(len(assets.index))))\n"
   ]
  },
  {
   "cell_type": "markdown",
   "id": "c23518fb",
   "metadata": {},
   "source": [
    "## Расчет значения $\\tau$ для периодических мер"
   ]
  },
  {
   "cell_type": "code",
   "execution_count": 6,
   "id": "67ea8f17",
   "metadata": {
    "ExecuteTime": {
     "end_time": "2022-05-11T11:04:06.930796Z",
     "start_time": "2022-05-11T11:04:06.922818Z"
    }
   },
   "outputs": [],
   "source": [
    "#заготовка матрицы ожидаемого времени обнаружения связки (акитв, уязвимость, контрмера (периодическая))\n",
    "matrix_measures = np.full((len(a_id_dict), len(v_id_dict), len(c_id_dict)), np.inf)"
   ]
  },
  {
   "cell_type": "code",
   "execution_count": 7,
   "id": "d152c1bf",
   "metadata": {
    "ExecuteTime": {
     "end_time": "2022-05-11T11:04:07.378033Z",
     "start_time": "2022-05-11T11:04:07.354122Z"
    }
   },
   "outputs": [],
   "source": [
    "#проходим по словарю уязвимостей (id актива, описание уязвимости)\n",
    "for (a_df_id, item) in vulners_assets_dict.items():\n",
    "    #вытаскиваем строку с промежуточным json для получения полной информации об уязвимостях\n",
    "    row = assets_filtered.query(\"id == @a_df_id\").iloc[0]\n",
    "    #преобразуем json с описанием уязвимостей в DF\n",
    "    v_df = pd.json_normalize(row['protectionMeasures'], record_path='vulnerabilities', max_level=0,\n",
    "                                         meta=['protectionMeasureId'], errors='ignore')\n",
    "    #если есть уязвимости у актива\n",
    "    if not(v_df.empty):\n",
    "        #выбираем все детектирующие меры\n",
    "        v_df = v_df.query(\"canDetect\")\n",
    "        #проходим по детектирующим мерам\n",
    "        for (row_id, vuln) in v_df.iterrows():\n",
    "            \n",
    "            #сохраняем значения id и индексы id в массиве\n",
    "            v_df_id = vuln['id']\n",
    "            v_id = v_id_dict[v_df_id]\n",
    "            c_df_id = vuln['protectionMeasureId']\n",
    "            c_id = c_id_dict[c_df_id]\n",
    "            if c_df_id in t_measures.index:\n",
    "                a_id = a_id_dict[a_df_id]\n",
    "                #сохраняем значения вероятности обнаружения и периода\n",
    "                p_d = t_measures.at[c_df_id,'P_d']\n",
    "                T = t_measures.at[c_df_id,'Период']\n",
    "                #если вероятность 1, то мы гарантирвоано обнаружим за одно применение меры (т.е. за время T)\n",
    "                matrix_measures[a_id, v_id, c_id] = T\n",
    "                if p_d < 1:\n",
    "                    #если вероятность обнаружения менее 1, то считаем по схеме Бернулли\n",
    "                    matrix_measures[a_id, v_id, c_id] = np.ceil(np.log(0.05)/np.log(1-p_d)) * T\n",
    "                    \n",
    "            \n",
    "            \n",
    "                \n",
    "            \n",
    "    \n",
    "    "
   ]
  },
  {
   "cell_type": "markdown",
   "id": "345d8f4f",
   "metadata": {
    "pycharm": {
     "name": "#%% md\n"
    }
   },
   "source": [
    "# Построение графа связности активов"
   ]
  },
  {
   "cell_type": "code",
   "execution_count": 8,
   "id": "c42aa8fa",
   "metadata": {
    "ExecuteTime": {
     "end_time": "2022-05-11T11:04:08.489452Z",
     "start_time": "2022-05-11T11:04:08.480479Z"
    }
   },
   "outputs": [],
   "source": [
    "Link_MG = nx.Graph()"
   ]
  },
  {
   "cell_type": "code",
   "execution_count": 9,
   "id": "012256a7",
   "metadata": {
    "ExecuteTime": {
     "end_time": "2022-05-11T11:04:09.107446Z",
     "start_time": "2022-05-11T11:04:09.084505Z"
    }
   },
   "outputs": [
    {
     "name": "stdout",
     "output_type": "stream",
     "text": [
      "Wall time: 4.99 ms\n"
     ]
    }
   ],
   "source": [
    "%%time\n",
    "assets['label'] = assets['title'] + '#' + assets.index.astype(str)\n",
    "assets['shape'] = 'ellipse'\n",
    "#Link_MG.add_nodes_from(list(assets.loc[:,'title':'valuable'].to_dict(orient='index').items()))\n",
    "Link_MG.add_nodes_from(list(assets.to_dict(orient='index').items()))"
   ]
  },
  {
   "cell_type": "code",
   "execution_count": 10,
   "id": "db7f450a",
   "metadata": {
    "ExecuteTime": {
     "end_time": "2022-05-11T11:04:09.586276Z",
     "start_time": "2022-05-11T11:04:09.575280Z"
    }
   },
   "outputs": [],
   "source": [
    "od_iter = OrderedDict()\n",
    "od_iter['Physical'] = np.inf\n",
    "od_iter['Network'] = 1\n",
    "od_iter['Local'] = 0"
   ]
  },
  {
   "cell_type": "code",
   "execution_count": 11,
   "id": "00e03c9e",
   "metadata": {
    "ExecuteTime": {
     "end_time": "2022-05-11T11:04:09.941158Z",
     "start_time": "2022-05-11T11:04:09.935172Z"
    },
    "pycharm": {
     "name": "#%%\n"
    }
   },
   "outputs": [],
   "source": [
    "#d_iter = {'Physical': np.inf, 'Network': 1,'Local' : 0}\n",
    "for i in assets.index:\n",
    "    for j in assets.index:\n",
    "        if (i != j):\n",
    "            for (domain, weight) in od_iter.items():\n",
    "                if (len(set(assets.loc[i,domain]) & set(assets.loc[j,domain])) > 0):\n",
    "                    Link_MG.add_edge(i,j,weight = weight)          \n",
    "                    Link_MG[i][j]['label'] = weight\n"
   ]
  },
  {
   "cell_type": "code",
   "execution_count": 12,
   "id": "8ce8fa89",
   "metadata": {
    "ExecuteTime": {
     "end_time": "2022-05-11T11:04:10.514352Z",
     "start_time": "2022-05-11T11:04:10.509394Z"
    }
   },
   "outputs": [
    {
     "data": {
      "text/plain": [
       "EdgeView([(13, 20), (13, 18), (20, 22)])"
      ]
     },
     "execution_count": 12,
     "metadata": {},
     "output_type": "execute_result"
    }
   ],
   "source": [
    "Link_MG.edges"
   ]
  },
  {
   "cell_type": "code",
   "execution_count": 13,
   "id": "b3217d76",
   "metadata": {
    "ExecuteTime": {
     "end_time": "2022-05-11T11:04:11.363370Z",
     "start_time": "2022-05-11T11:04:11.340403Z"
    },
    "pycharm": {
     "name": "#%%\n"
    },
    "scrolled": false
   },
   "outputs": [
    {
     "data": {
      "text/html": [
       "\n",
       "        <iframe\n",
       "            width=\"1000px\"\n",
       "            height=\"1000px\"\n",
       "            src=\"Link_MG_1.html\"\n",
       "            frameborder=\"0\"\n",
       "            allowfullscreen\n",
       "        ></iframe>\n",
       "        "
      ],
      "text/plain": [
       "<IPython.lib.display.IFrame at 0x1d9ee261bb0>"
      ]
     },
     "execution_count": 13,
     "metadata": {},
     "output_type": "execute_result"
    }
   ],
   "source": [
    "#show_graph(Link_MG, 'Link_MG.html', False, nb)\n",
    "\n",
    "nt = Network('1000px','1000px', notebook=nb)\n",
    "\n",
    "# populates the nodes and edges data structures\n",
    "nt.from_nx(Link_MG)\n",
    "nt.set_options(\"\"\"\n",
    "var options = {\n",
    "  \"physics\": {\n",
    "    \"repulsion\": {\n",
    "      \"springLength\": 325,\n",
    "      \"springConstant\": 0\n",
    "    },\n",
    "    \"minVelocity\": 0.75,\n",
    "    \"solver\": \"repulsion\"\n",
    "  },\n",
    "  \"nodes\" : {\n",
    "      \"font\" : {\n",
    "          \"color\" : \"black\"\n",
    "      },\n",
    "      \"borderWidth\" : 2,\n",
    "      \"color\" : {\n",
    "          \"border\" : \"black\",\n",
    "          \"background\" : \"white\"\n",
    "        \n",
    "      }\n",
    "  }\n",
    "}\n",
    "\"\"\"\n",
    ")\n",
    "\n",
    "nt.show('Link_MG_1.html')"
   ]
  },
  {
   "cell_type": "markdown",
   "id": "822dac04",
   "metadata": {
    "pycharm": {
     "name": "#%% md\n"
    }
   },
   "source": [
    "# Построение графа переходов (всевозможных атак)"
   ]
  },
  {
   "cell_type": "code",
   "execution_count": 14,
   "id": "74ca12ba",
   "metadata": {
    "ExecuteTime": {
     "end_time": "2022-05-11T11:04:15.173893Z",
     "start_time": "2022-05-11T11:04:15.154975Z"
    },
    "pycharm": {
     "name": "#%%\n"
    }
   },
   "outputs": [],
   "source": [
    "#CtxA\n",
    "def get_asset(df, col_name, val):\n",
    "    return df[df[col_name] == val]\n",
    "#CtxN\n",
    "def get_all_assets(df, col_name):\n",
    "    return df[col_name].unique()\n",
    "#Pr(a)\n",
    "def get_pr_asset(df, col_name, val, pr_col_name):\n",
    "    sub_df = df[df[col_name] == val]\n",
    "    if len(sub_df):\n",
    "        return df[df[col_name] == val][pr_col_name].max()\n",
    "    else:\n",
    "        return 0\n",
    "#PhAdj(a)\n",
    "def phys_adj(G, node):\n",
    "    return [n for n in G.neighbors(node) if G.edges[node,n]['weight'] == np.inf]"
   ]
  },
  {
   "cell_type": "code",
   "execution_count": 15,
   "id": "51574777",
   "metadata": {
    "ExecuteTime": {
     "end_time": "2022-05-11T11:04:15.421939Z",
     "start_time": "2022-05-11T11:04:15.414957Z"
    },
    "pycharm": {
     "name": "#%%\n"
    }
   },
   "outputs": [],
   "source": [
    "G_dash = nx.MultiDiGraph()"
   ]
  },
  {
   "cell_type": "code",
   "execution_count": 16,
   "id": "c3bb2635",
   "metadata": {
    "ExecuteTime": {
     "end_time": "2022-05-11T11:04:15.697881Z",
     "start_time": "2022-05-11T11:04:15.685913Z"
    },
    "pycharm": {
     "name": "#%%\n"
    }
   },
   "outputs": [],
   "source": [
    "#инциализация графа начальным контекстом\n",
    "G_dash.add_nodes_from(list(Ctx_0.index))\n",
    "#nx.set_node_attributes(G_dash, Ctx_0.to_dict(orient='index'))\n",
    "#вспомогательный DataFrame для более удобных выборок врешин (возможно не надо писать атрибуты в граф)\n",
    "A_df = pd.DataFrame(Ctx_0)\n",
    "\n",
    "#инициализация переменного контекста\n",
    "Ctx = pd.DataFrame(Ctx_0)"
   ]
  },
  {
   "cell_type": "code",
   "execution_count": 17,
   "id": "be2ec2c4",
   "metadata": {
    "ExecuteTime": {
     "end_time": "2022-05-11T11:04:16.207276Z",
     "start_time": "2022-05-11T11:04:16.080237Z"
    },
    "pycharm": {
     "name": "#%%\n"
    }
   },
   "outputs": [
    {
     "name": "stdout",
     "output_type": "stream",
     "text": [
      "Wall time: 110 ms\n"
     ]
    }
   ],
   "source": [
    "%%time\n",
    "#Основной цикл\n",
    "while len(Ctx.index):\n",
    "\n",
    "    #извлечь вершину из текущего контекста\n",
    "    a_begin = Ctx.iloc[-1]\n",
    "    Ctx = Ctx.drop([a_begin.name])\n",
    "    if a_begin['AV'] == np.inf:\n",
    "        a_end_list = phys_adj(Link_MG,a_begin['a_id'])\n",
    "        a_end_list.append(a_begin['a_id'])\n",
    "        for a_end_id in a_end_list:\n",
    "            a_name = assets.loc[a_end_id].title\n",
    "            pr_a = get_pr_asset(A_df, 'a_id', a_end_id, 'PR')\n",
    "            #v_index = list(vuln_matrix[vuln_matrix[a_name] == 1].index)\n",
    "            #v_sub_df = vulner.loc[v_index]\n",
    "            v_sub_df = vulners_assets_dict[a_end_id]\n",
    "            v_sub_df = v_sub_df[v_sub_df.PR <= pr_a]\n",
    "            for v_id, v_data in v_sub_df.iterrows():\n",
    "                str_search = \"(a_id == {a_id}) & (AV == {v_AV}) & (PR == {v_PR}) & (I == {I})\".format(\n",
    "                    a_id=a_end_id, \n",
    "                    v_AV = v_data['s.AV'], \n",
    "                    v_PR = v_data['s.PR'], \n",
    "                    I = v_data['Imp']\n",
    "                )\n",
    "                a_ex_ind = A_df.query(str_search).index\n",
    "                #не найдена такая вершина в графе\n",
    "                if len(a_ex_ind) == 0:\n",
    "                    a_dict = {'a_id' : a_end_id, 'AV' : v_data['s.AV'], 'PR' : v_data['s.PR'], 'I' : v_data['Imp']}\n",
    "                    A_df = A_df.append(a_dict, ignore_index = True)\n",
    "                    a_series = A_df.iloc[-1]\n",
    "                    a_ex_ind = a_series.name\n",
    "                    G_dash.add_node(int(a_ex_ind))\n",
    "                    #!!!!!!!!прекращение дальнейшего развития атаки с *конкретного актива* при нанесении ущерба!!!!!!!\n",
    "                    if a_series['I'] == 0:\n",
    "                        Ctx = Ctx.append(A_df.iloc[a_ex_ind])\n",
    "                else:\n",
    "                    a_ex_ind = a_ex_ind[0]\n",
    "                G_dash.add_edge(int(a_begin.name), int(a_ex_ind), label = v_id)\n",
    "    else:\n",
    "        for a_end_id in Link_MG.nodes():\n",
    "            if nx.algorithms.shortest_paths.generic.has_path(Link_MG, source = a_begin['a_id'], target = a_end_id):\n",
    "                d = nx.shortest_path_length(Link_MG, source = a_begin['a_id'], target = a_end_id, weight = 'weight')\n",
    "            else:\n",
    "                d = np.inf\n",
    "            a_name = assets.loc[a_end_id].title\n",
    "            pr_a = get_pr_asset(A_df, 'a_id', a_end_id, 'PR')\n",
    "            #v_index = list(vuln_matrix[vuln_matrix[a_name] == 1].index)\n",
    "            #v_sub_df = vulner.loc[v_index]\n",
    "            v_sub_df = vulners_assets_dict[a_end_id]\n",
    "            v_sub_df = v_sub_df[(v_sub_df.PR <= pr_a) & (v_sub_df.AV >= a_begin['AV'] + d)]\n",
    "            for v_id, v_data in v_sub_df.iterrows():\n",
    "                str_search = \"(a_id == {a_id}) & (AV == {v_AV}) & (PR == {v_PR}) & (I == {I})\".format(\n",
    "                    a_id=a_end_id, \n",
    "                    v_AV = v_data['s.AV'], \n",
    "                    v_PR = v_data['s.PR'], \n",
    "                    I = v_data['Imp']\n",
    "                )\n",
    "                a_ex_ind = A_df.query(str_search).index\n",
    "                #не найдена такая вершина в графе\n",
    "                if len(a_ex_ind) == 0:\n",
    "                    a_dict = {'a_id' : a_end_id, 'AV' : v_data['s.AV'], 'PR' : v_data['s.PR'], 'I' : v_data['Imp']}\n",
    "                    A_df = A_df.append(a_dict, ignore_index = True)\n",
    "                    a_series = A_df.iloc[-1]\n",
    "                    a_ex_ind = a_series.name\n",
    "                    G_dash.add_node(int(a_ex_ind))\n",
    "                    #!!!!!!!!прекращение дальнейшего развития атаки с *конкретного актива* при нанесении ущерба!!!!!!!                    \n",
    "                    if a_series['I'] == 0:\n",
    "                        Ctx = Ctx.append(A_df.iloc[a_ex_ind])\n",
    "                else:\n",
    "                    a_ex_ind = a_ex_ind[0]\n",
    "                G_dash.add_edge(int(a_begin.name), int(a_ex_ind), label = v_id)"
   ]
  },
  {
   "cell_type": "code",
   "execution_count": 18,
   "id": "51f0f4a2",
   "metadata": {
    "ExecuteTime": {
     "end_time": "2022-05-11T11:04:16.747206Z",
     "start_time": "2022-05-11T11:04:16.725240Z"
    }
   },
   "outputs": [],
   "source": [
    "def mk_title(s):\n",
    "    if np.isinf(s['AV']):\n",
    "        s['label'] = '(' + str(int(s['a_id'])) + ', ' + str(s['AV']) + ', ' + str(int(s['PR'])) + ', ' + str(int(s['I'])) + ')'\n",
    "    else:\n",
    "        s['label'] = '(' + str(int(s['a_id'])) + ', ' + str(int(s['AV'])) + ', ' + str(int(s['PR'])) + ', ' + str(int(s['I'])) + ')'\n",
    "    return s\n",
    "A_df['label'] = ''\n",
    "A_df = A_df.apply(mk_title, axis = 1)"
   ]
  },
  {
   "cell_type": "code",
   "execution_count": 19,
   "id": "0ad55e23",
   "metadata": {
    "ExecuteTime": {
     "end_time": "2022-05-11T11:04:17.225157Z",
     "start_time": "2022-05-11T11:04:17.200218Z"
    }
   },
   "outputs": [
    {
     "data": {
      "text/html": [
       "<div>\n",
       "<style scoped>\n",
       "    .dataframe tbody tr th:only-of-type {\n",
       "        vertical-align: middle;\n",
       "    }\n",
       "\n",
       "    .dataframe tbody tr th {\n",
       "        vertical-align: top;\n",
       "    }\n",
       "\n",
       "    .dataframe thead th {\n",
       "        text-align: right;\n",
       "    }\n",
       "</style>\n",
       "<table border=\"1\" class=\"dataframe\">\n",
       "  <thead>\n",
       "    <tr style=\"text-align: right;\">\n",
       "      <th></th>\n",
       "      <th>a_id</th>\n",
       "      <th>PR</th>\n",
       "      <th>AV</th>\n",
       "      <th>I</th>\n",
       "      <th>label</th>\n",
       "    </tr>\n",
       "  </thead>\n",
       "  <tbody>\n",
       "    <tr>\n",
       "      <th>0</th>\n",
       "      <td>13</td>\n",
       "      <td>0</td>\n",
       "      <td>2</td>\n",
       "      <td>0</td>\n",
       "      <td>(13, 2, 0, 0)</td>\n",
       "    </tr>\n",
       "    <tr>\n",
       "      <th>1</th>\n",
       "      <td>13</td>\n",
       "      <td>0</td>\n",
       "      <td>2</td>\n",
       "      <td>1</td>\n",
       "      <td>(13, 2, 0, 1)</td>\n",
       "    </tr>\n",
       "    <tr>\n",
       "      <th>2</th>\n",
       "      <td>13</td>\n",
       "      <td>0</td>\n",
       "      <td>1</td>\n",
       "      <td>1</td>\n",
       "      <td>(13, 1, 0, 1)</td>\n",
       "    </tr>\n",
       "    <tr>\n",
       "      <th>3</th>\n",
       "      <td>18</td>\n",
       "      <td>0</td>\n",
       "      <td>2</td>\n",
       "      <td>1</td>\n",
       "      <td>(18, 2, 0, 1)</td>\n",
       "    </tr>\n",
       "    <tr>\n",
       "      <th>4</th>\n",
       "      <td>18</td>\n",
       "      <td>0</td>\n",
       "      <td>1</td>\n",
       "      <td>1</td>\n",
       "      <td>(18, 1, 0, 1)</td>\n",
       "    </tr>\n",
       "    <tr>\n",
       "      <th>5</th>\n",
       "      <td>18</td>\n",
       "      <td>2</td>\n",
       "      <td>0</td>\n",
       "      <td>0</td>\n",
       "      <td>(18, 0, 2, 0)</td>\n",
       "    </tr>\n",
       "    <tr>\n",
       "      <th>6</th>\n",
       "      <td>20</td>\n",
       "      <td>0</td>\n",
       "      <td>2</td>\n",
       "      <td>1</td>\n",
       "      <td>(20, 2, 0, 1)</td>\n",
       "    </tr>\n",
       "    <tr>\n",
       "      <th>7</th>\n",
       "      <td>20</td>\n",
       "      <td>0</td>\n",
       "      <td>1</td>\n",
       "      <td>1</td>\n",
       "      <td>(20, 1, 0, 1)</td>\n",
       "    </tr>\n",
       "    <tr>\n",
       "      <th>8</th>\n",
       "      <td>22</td>\n",
       "      <td>0</td>\n",
       "      <td>2</td>\n",
       "      <td>1</td>\n",
       "      <td>(22, 2, 0, 1)</td>\n",
       "    </tr>\n",
       "    <tr>\n",
       "      <th>9</th>\n",
       "      <td>22</td>\n",
       "      <td>0</td>\n",
       "      <td>1</td>\n",
       "      <td>1</td>\n",
       "      <td>(22, 1, 0, 1)</td>\n",
       "    </tr>\n",
       "    <tr>\n",
       "      <th>10</th>\n",
       "      <td>22</td>\n",
       "      <td>2</td>\n",
       "      <td>0</td>\n",
       "      <td>0</td>\n",
       "      <td>(22, 0, 2, 0)</td>\n",
       "    </tr>\n",
       "  </tbody>\n",
       "</table>\n",
       "</div>"
      ],
      "text/plain": [
       "    a_id  PR  AV  I          label\n",
       "0     13   0   2  0  (13, 2, 0, 0)\n",
       "1     13   0   2  1  (13, 2, 0, 1)\n",
       "2     13   0   1  1  (13, 1, 0, 1)\n",
       "3     18   0   2  1  (18, 2, 0, 1)\n",
       "4     18   0   1  1  (18, 1, 0, 1)\n",
       "5     18   2   0  0  (18, 0, 2, 0)\n",
       "6     20   0   2  1  (20, 2, 0, 1)\n",
       "7     20   0   1  1  (20, 1, 0, 1)\n",
       "8     22   0   2  1  (22, 2, 0, 1)\n",
       "9     22   0   1  1  (22, 1, 0, 1)\n",
       "10    22   2   0  0  (22, 0, 2, 0)"
      ]
     },
     "execution_count": 19,
     "metadata": {},
     "output_type": "execute_result"
    }
   ],
   "source": [
    "A_df"
   ]
  },
  {
   "cell_type": "code",
   "execution_count": 20,
   "id": "7ea4c364",
   "metadata": {
    "ExecuteTime": {
     "end_time": "2022-05-11T11:04:17.734460Z",
     "start_time": "2022-05-11T11:04:17.716510Z"
    }
   },
   "outputs": [],
   "source": [
    "A_df['color'] = 'blue'\n",
    "A_df.loc[Ctx_0.index,'color'] = 'green'\n",
    "A_df.loc[A_df.I == 1,'color'] = 'red'\n",
    "A_df['shape'] = 'ellipse'\n",
    "nx.set_node_attributes(G_dash, A_df.to_dict(orient='index'))"
   ]
  },
  {
   "cell_type": "code",
   "execution_count": null,
   "id": "5e5457f5",
   "metadata": {
    "ExecuteTime": {
     "end_time": "2021-08-03T17:14:40.351946Z",
     "start_time": "2021-08-03T17:14:40.328014Z"
    },
    "pycharm": {
     "name": "#%%\n"
    }
   },
   "outputs": [],
   "source": []
  },
  {
   "cell_type": "code",
   "execution_count": 21,
   "id": "e49c5022",
   "metadata": {
    "ExecuteTime": {
     "end_time": "2022-05-11T11:04:18.588537Z",
     "start_time": "2022-05-11T11:04:18.565599Z"
    },
    "pycharm": {
     "name": "#%%\n"
    },
    "scrolled": false
   },
   "outputs": [
    {
     "data": {
      "text/html": [
       "\n",
       "        <iframe\n",
       "            width=\"1000px\"\n",
       "            height=\"1000px\"\n",
       "            src=\"G_dash_2.html\"\n",
       "            frameborder=\"0\"\n",
       "            allowfullscreen\n",
       "        ></iframe>\n",
       "        "
      ],
      "text/plain": [
       "<IPython.lib.display.IFrame at 0x1d9ee1e5d00>"
      ]
     },
     "execution_count": 21,
     "metadata": {},
     "output_type": "execute_result"
    }
   ],
   "source": [
    "#nb = False\n",
    "nt = Network('1000px','1000px', directed=True, notebook=nb)\n",
    "\n",
    "nt.from_nx(G_dash)\n",
    "#nt.show_buttons(filter_='physics')\n",
    "nt.set_options(\"\"\"\n",
    "var options = {\n",
    "  \"physics\": {\n",
    "    \"repulsion\": {\n",
    "      \"springLength\": 325,\n",
    "      \"springConstant\": 0\n",
    "    },\n",
    "    \"minVelocity\": 0.75,\n",
    "    \"solver\": \"repulsion\"\n",
    "  },\n",
    "  \"nodes\" : {\n",
    "      \"font\" : {\n",
    "          \"color\" : \"white\"\n",
    "      },\n",
    "      \"borderWidth\" : 2,\n",
    "      \"color\" : {\n",
    "          \"background\" : \"white\"\n",
    "      }\n",
    "  }\n",
    "}\n",
    "\"\"\"\n",
    ")\n",
    "nt.show('G_dash_2.html')"
   ]
  },
  {
   "cell_type": "markdown",
   "id": "fae21df6",
   "metadata": {
    "pycharm": {
     "name": "#%% md\n"
    }
   },
   "source": [
    "# Поиск оптимальной стратегии атаки"
   ]
  },
  {
   "cell_type": "markdown",
   "id": "595d7a82",
   "metadata": {
    "pycharm": {
     "name": "#%% md\n"
    }
   },
   "source": [
    "## Построение минимального остова на графе переходов"
   ]
  },
  {
   "cell_type": "markdown",
   "id": "aeb208ba",
   "metadata": {
    "pycharm": {
     "name": "#%% md\n"
    }
   },
   "source": [
    "$w^{*}(v) = \\sum_{i=1}^{5}N^{5-i}w_i(e)$"
   ]
  },
  {
   "cell_type": "markdown",
   "id": "cd0da5c2",
   "metadata": {},
   "source": [
    "### Вычисление весовой функции"
   ]
  },
  {
   "cell_type": "code",
   "execution_count": 22,
   "id": "1c95b857",
   "metadata": {
    "ExecuteTime": {
     "end_time": "2022-05-06T09:51:00.195629Z",
     "start_time": "2022-05-06T09:51:00.175684Z"
    }
   },
   "outputs": [],
   "source": [
    "G_dash.nodes\n",
    "\n",
    "a = np.array([[1,1,2,3,5,10], [100,1000,1000,1000,10000,10000]])\n",
    "b = np.reshape(rankdata(a,'dense',axis=None),a.shape)"
   ]
  },
  {
   "cell_type": "code",
   "execution_count": 23,
   "id": "6f15686f",
   "metadata": {
    "ExecuteTime": {
     "end_time": "2022-05-06T09:51:04.834801Z",
     "start_time": "2022-05-06T09:51:04.830811Z"
    }
   },
   "outputs": [],
   "source": [
    "L = len(G_dash.nodes)\n",
    "N = L - 1#количество ребер остова всегда на 1 меньше числа вершин\n",
    "node_list = list(G_dash.nodes)\n",
    "#словарь для перевода id вершины в номер\n",
    "n_id_dict = dict(zip(node_list,range(len(node_list))))\n",
    "#трехмерный массив для хранения векторной весовой функции (5 матриц весов)\n",
    "n_matrix = np.zeros((5,L,L))"
   ]
  },
  {
   "cell_type": "code",
   "execution_count": 58,
   "id": "c4ed9915",
   "metadata": {
    "ExecuteTime": {
     "end_time": "2022-04-25T18:46:59.715391Z",
     "start_time": "2022-04-25T18:46:59.693451Z"
    }
   },
   "outputs": [],
   "source": [
    "#установка параметра оптимизации\n",
    "#проходим по всем ребрам графа (e = (u,v))\n",
    "for (u,v,d) in list(G_dash.edges):\n",
    "    #id уязвимости, ассоциированной с ребром\n",
    "    v_id = G_dash.edges[u,v,d]['label']\n",
    "    v_m_id = v_id_dict[v_id]\n",
    "    #id актива (целевого)\n",
    "    a_id = A_df.at[v,'a_id']\n",
    "    a_m_id = a_id_dict[a_id]\n",
    "    #id вершин, из которых собраны ребра \n",
    "    u_node_id = n_id_dict[u]\n",
    "    v_node_id = n_id_dict[v]\n",
    "    \n",
    "    #критерий ранга 1 (вероятность успешной реализации)\n",
    "    if vulners_assets_dict[a_id].at[v_id,'P_v'] == 0:\n",
    "        P_v = np.inf\n",
    "    else:\n",
    "        P_v = -np.log(vulners_assets_dict[a_id].at[v_id,'P_v'])\n",
    "    n_matrix[0, u_node_id, v_node_id] = P_v\n",
    "    \n",
    "    #критерий ранга 2 (вероятность необнаружения атаки)\n",
    "    if vulners_assets_dict[a_id].at[v_id,'P_d'] == 0:\n",
    "        P_d = np.inf\n",
    "    else:\n",
    "        P_d = -np.log(vulners_assets_dict[a_id].at[v_id,'P_d'])\n",
    "    n_matrix[1, u_node_id, v_node_id] = P_d\n",
    "    \n",
    "    #критерий ранга 3 (ожидаемое время обнаружения)\n",
    "    tau = matrix_measures[a_m_id,v_m_id].min()\n",
    "    n_matrix[2, u_node_id, v_node_id] = tau\n",
    "    \n",
    "    #критерий ранга 4 - время восстановления\n",
    "    TTR = assets.at[a_id,'TTR']\n",
    "    n_matrix[3, u_node_id, v_node_id] =TTR\n",
    "\n",
    "    #критерий ранга 5 - время атаки\n",
    "    t = vulners_assets_dict[a_id].at[v_id,'t']\n",
    "    n_matrix[4, u_node_id, v_node_id] = t"
   ]
  },
  {
   "cell_type": "code",
   "execution_count": 59,
   "id": "c1892565",
   "metadata": {
    "ExecuteTime": {
     "end_time": "2022-04-25T18:47:00.163952Z",
     "start_time": "2022-04-25T18:47:00.150986Z"
    }
   },
   "outputs": [],
   "source": [
    "#критерий 2 (вероятность необнаружения) - заменяем веса ребер на их ранг по возрастанию\n",
    "n_matrix[1] = np.reshape(rankdata(n_matrix[1],'dense',axis=None),n_matrix[1].shape)\n",
    "#критерий 3 (ожидаемое время обнаружения) - заменяем веса ребер на их ранг по возрастанию\n",
    "n_matrix[2] = np.reshape(rankdata(n_matrix[2],'dense',axis=None),n_matrix[2].shape)\n",
    "\n",
    "#вычисляем степенную весовую функцию L^(ранг веса ребра)\n",
    "n_matrix[1] = np.power(L, n_matrix[1])\n",
    "n_matrix[2] = np.power(L, n_matrix[2])\n"
   ]
  },
  {
   "cell_type": "code",
   "execution_count": 60,
   "id": "6c2f708e",
   "metadata": {
    "ExecuteTime": {
     "end_time": "2022-04-25T18:47:00.958844Z",
     "start_time": "2022-04-25T18:47:00.941889Z"
    }
   },
   "outputs": [],
   "source": [
    "#нормализуем отдельные компоненты векторного веса\n",
    "for i in range(5):\n",
    "    min_val = n_matrix[i].min()\n",
    "    max_val = n_matrix[i].max()\n",
    "    n_matrix[i] = (n_matrix[i] - min_val)/(max_val - min_val)\n",
    "    "
   ]
  },
  {
   "cell_type": "code",
   "execution_count": 65,
   "id": "1fde61bf",
   "metadata": {
    "ExecuteTime": {
     "end_time": "2022-04-25T18:55:42.746389Z",
     "start_time": "2022-04-25T18:55:42.737413Z"
    }
   },
   "outputs": [],
   "source": [
    "#считаем скалярную весовую функцию\n",
    "for (u,v,d) in list(G_dash.edges):\n",
    "    u_node_id = n_id_dict[u]\n",
    "    v_node_id = n_id_dict[v]\n",
    "    G_dash.edges[u,v,d]['weight'] = n_matrix[4, u_node_id, v_node_id] + n_matrix[3, u_node_id, v_node_id]*N + n_matrix[2, u_node_id, v_node_id]*(N**2) + n_matrix[1, u_node_id, v_node_id]*(N**3) + n_matrix[0, u_node_id, v_node_id]*(N**4)\n",
    "    G_dash.edges[u,v,d]['title'] = \"w: {}\".format(G_dash.edges[u,v,d]['weight'])\n"
   ]
  },
  {
   "cell_type": "markdown",
   "id": "06f03b8a",
   "metadata": {
    "ExecuteTime": {
     "end_time": "2022-04-25T18:56:25.869454Z",
     "start_time": "2022-04-25T18:56:25.862448Z"
    }
   },
   "source": [
    "### Решение задачи минимального остова"
   ]
  },
  {
   "cell_type": "code",
   "execution_count": 68,
   "id": "d54667e5",
   "metadata": {
    "ExecuteTime": {
     "end_time": "2022-04-25T18:56:35.838524Z",
     "start_time": "2022-04-25T18:56:35.834534Z"
    }
   },
   "outputs": [],
   "source": [
    "ctx_nodes = list(Ctx_0.index)"
   ]
  },
  {
   "cell_type": "code",
   "execution_count": 69,
   "id": "3a050f8d",
   "metadata": {
    "ExecuteTime": {
     "end_time": "2022-04-25T18:56:36.231272Z",
     "start_time": "2022-04-25T18:56:36.222247Z"
    }
   },
   "outputs": [
    {
     "name": "stdout",
     "output_type": "stream",
     "text": [
      "Wall time: 2.99 ms\n"
     ]
    }
   ],
   "source": [
    "%%time\n",
    "ids = A_df[A_df.I == 1]['a_id'].unique()\n",
    "for a_id in ids:\n",
    "    #fin_node = 'fin: ' + str(a_id)\n",
    "    fin_node = assets.at[a_id,'title'] + ' ' + str(a_id)\n",
    "    G_dash.add_node(fin_node)\n",
    "    adj_fin = list(A_df[(A_df.a_id == a_id) & (A_df.I == 1)].index)\n",
    "    for fin_a_id in adj_fin:\n",
    "        G_dash.add_edge(fin_a_id, fin_node, weight = 0)\n",
    "   "
   ]
  },
  {
   "cell_type": "code",
   "execution_count": 70,
   "id": "e7430055",
   "metadata": {
    "ExecuteTime": {
     "end_time": "2022-04-25T18:56:37.727524Z",
     "start_time": "2022-04-25T18:56:37.694546Z"
    }
   },
   "outputs": [
    {
     "data": {
      "text/html": [
       "\n",
       "        <iframe\n",
       "            width=\"750px\"\n",
       "            height=\"750\"\n",
       "            src=\"B_3.html\"\n",
       "            frameborder=\"0\"\n",
       "            allowfullscreen\n",
       "        ></iframe>\n",
       "        "
      ],
      "text/plain": [
       "<IPython.lib.display.IFrame at 0x1a056f4e940>"
      ]
     },
     "execution_count": 70,
     "metadata": {},
     "output_type": "execute_result"
    }
   ],
   "source": [
    "nt = Network('750','750px', directed=True, notebook=nb)\n",
    "nt.set_options(\"\"\"\n",
    "  var options = {\n",
    "      \"layout\": {\n",
    "        \"hierarchical\": {\n",
    "          \"enabled\": false\n",
    "          \n",
    "        }\n",
    "      }\n",
    "    }\n",
    "\"\"\"\n",
    ")\n",
    "nt.from_nx(G_dash)\n",
    "nt.show('B_3.html')"
   ]
  },
  {
   "cell_type": "code",
   "execution_count": 71,
   "id": "75326c67",
   "metadata": {
    "ExecuteTime": {
     "end_time": "2022-04-25T18:57:40.613979Z",
     "start_time": "2022-04-25T18:57:40.596028Z"
    }
   },
   "outputs": [
    {
     "name": "stdout",
     "output_type": "stream",
     "text": [
      "Wall time: 2.99 ms\n"
     ]
    }
   ],
   "source": [
    "%%time\n",
    "B = nx.DiGraph()\n",
    "root_node = ctx_nodes[0]\n",
    "for root_node in ctx_nodes:\n",
    "    G_dash_temp = G_dash.copy()\n",
    "    del_nodes = set(ctx_nodes) - set([root_node])\n",
    "    G_dash_temp.remove_nodes_from(del_nodes)\n",
    "    G_dash_temp = G_dash_temp.subgraph(nx.shortest_path(G_dash_temp,root_node)).copy()\n",
    "    #G_dash_temp.add_node('sart')\n",
    "    G_dash_temp.add_edge('start', root_node, weight = 0)\n",
    "    B_part = nx.DiGraph(nx.algorithms.tree.branchings.minimum_spanning_arborescence(G_dash_temp,attr='weight', default=0, preserve_attrs=True))\n",
    "    B = nx.algorithms.operators.binary.compose(B, B_part)\n",
    "\n",
    "    "
   ]
  },
  {
   "cell_type": "code",
   "execution_count": 72,
   "id": "dc1ac6de",
   "metadata": {
    "ExecuteTime": {
     "end_time": "2022-04-25T18:57:41.670432Z",
     "start_time": "2022-04-25T18:57:41.654447Z"
    },
    "pycharm": {
     "name": "#%%\n"
    }
   },
   "outputs": [],
   "source": [
    "for n in list(B.nodes()):\n",
    "    if n in A_df.index:\n",
    "        B.nodes[n]['color'] = A_df.at[n,'color']"
   ]
  },
  {
   "cell_type": "code",
   "execution_count": 73,
   "id": "6d1f6768",
   "metadata": {
    "ExecuteTime": {
     "end_time": "2022-04-25T18:57:42.540607Z",
     "start_time": "2022-04-25T18:57:42.501710Z"
    }
   },
   "outputs": [
    {
     "data": {
      "text/html": [
       "\n",
       "        <iframe\n",
       "            width=\"750px\"\n",
       "            height=\"750\"\n",
       "            src=\"B_4.html\"\n",
       "            frameborder=\"0\"\n",
       "            allowfullscreen\n",
       "        ></iframe>\n",
       "        "
      ],
      "text/plain": [
       "<IPython.lib.display.IFrame at 0x1a056f9a520>"
      ]
     },
     "execution_count": 73,
     "metadata": {},
     "output_type": "execute_result"
    }
   ],
   "source": [
    "nt = Network('750','750px', directed=True, notebook=nb)\n",
    "nt.set_options(\"\"\"\n",
    "  var options = {\n",
    "      \"layout\": {\n",
    "        \"hierarchical\": {\n",
    "          \"enabled\": true,\n",
    "          \"sortMethod\": \"directed\"\n",
    "        }\n",
    "      }\n",
    "    }\n",
    "\"\"\"\n",
    ")\n",
    "nt.from_nx(B)\n",
    "nt.show('B_4.html')"
   ]
  },
  {
   "cell_type": "markdown",
   "id": "328513c2",
   "metadata": {
    "pycharm": {
     "name": "#%% md\n"
    }
   },
   "source": [
    "## Редуцирование минимального остова до наиболее выгодных направлений атак на активы"
   ]
  },
  {
   "cell_type": "code",
   "execution_count": 74,
   "id": "9dca90ef",
   "metadata": {
    "ExecuteTime": {
     "end_time": "2022-04-25T18:57:54.230868Z",
     "start_time": "2022-04-25T18:57:54.214912Z"
    },
    "pycharm": {
     "name": "#%%\n"
    }
   },
   "outputs": [
    {
     "name": "stdout",
     "output_type": "stream",
     "text": [
      "Wall time: 0 ns\n"
     ]
    }
   ],
   "source": [
    "%%time\n",
    "was_del = True\n",
    "idx = list(A_df.index)\n",
    "while was_del:\n",
    "    was_del = False\n",
    "    for i in idx:\n",
    "        if (i in B) and (len(B.edges(i)) == 0):\n",
    "            B.remove_node(i)\n",
    "            was_del = True"
   ]
  },
  {
   "cell_type": "code",
   "execution_count": 75,
   "id": "5cda6134",
   "metadata": {
    "ExecuteTime": {
     "end_time": "2022-04-25T18:57:54.962946Z",
     "start_time": "2022-04-25T18:57:54.947986Z"
    }
   },
   "outputs": [
    {
     "name": "stdout",
     "output_type": "stream",
     "text": [
      "Wall time: 0 ns\n"
     ]
    }
   ],
   "source": [
    "%%time\n",
    "length = nx.single_source_dijkstra_path_length(B, 'start')"
   ]
  },
  {
   "cell_type": "code",
   "execution_count": 76,
   "id": "6dfc4440",
   "metadata": {
    "ExecuteTime": {
     "end_time": "2022-04-25T18:58:05.375768Z",
     "start_time": "2022-04-25T18:58:05.358782Z"
    }
   },
   "outputs": [
    {
     "name": "stdout",
     "output_type": "stream",
     "text": [
      "Wall time: 0 ns\n"
     ]
    }
   ],
   "source": [
    "%%time\n",
    "for n, l in length.items():\n",
    "    #для старой формулы (логарифмы)\n",
    "    #raw_l = np.exp(-l)\n",
    "    #для новой формулы\n",
    "    raw_l = np.exp(-l)\n",
    "    \n",
    "    B.nodes[n]['raw_length'] = raw_l\n",
    "    B.nodes[n]['length'] = l\n",
    "    B.nodes[n]['title'] = 'w: ' + str(l) + ' rw: ' + str(raw_l)"
   ]
  },
  {
   "cell_type": "code",
   "execution_count": 78,
   "id": "48a63881",
   "metadata": {
    "ExecuteTime": {
     "end_time": "2022-04-25T18:58:20.381502Z",
     "start_time": "2022-04-25T18:58:20.351581Z"
    },
    "scrolled": false
   },
   "outputs": [
    {
     "data": {
      "text/html": [
       "\n",
       "        <iframe\n",
       "            width=\"750px\"\n",
       "            height=\"750\"\n",
       "            src=\"B_reduce1_5.html\"\n",
       "            frameborder=\"0\"\n",
       "            allowfullscreen\n",
       "        ></iframe>\n",
       "        "
      ],
      "text/plain": [
       "<IPython.lib.display.IFrame at 0x1a056f60640>"
      ]
     },
     "execution_count": 78,
     "metadata": {},
     "output_type": "execute_result"
    }
   ],
   "source": [
    "nt = Network('750','750px', directed=True, notebook=nb)\n",
    "\n",
    " \n",
    "nt.from_nx(B)\n",
    "nt.set_options(\"\"\"\n",
    "  var options = {\n",
    "      \"layout\": {\n",
    "        \"hierarchical\": {\n",
    "          \"enabled\": true,\n",
    "          \"sortMethod\": \"directed\"\n",
    "        }\n",
    "      }\n",
    "    }\n",
    "\"\"\"\n",
    ")\n",
    "nt.show('B_reduce1_5.html')"
   ]
  },
  {
   "cell_type": "markdown",
   "id": "5d91d003",
   "metadata": {
    "pycharm": {
     "name": "#%% md\n"
    }
   },
   "source": [
    "## Поиск оптимального разреза дерева неисправностей (минимум элементов, максимум вероятности успеха незаметной атаки)\n"
   ]
  },
  {
   "cell_type": "code",
   "execution_count": 79,
   "id": "37a5c957",
   "metadata": {
    "ExecuteTime": {
     "end_time": "2022-04-25T18:58:36.231577Z",
     "start_time": "2022-04-25T18:58:36.207614Z"
    }
   },
   "outputs": [
    {
     "ename": "NameError",
     "evalue": "name 'input_data' is not defined",
     "output_type": "error",
     "traceback": [
      "\u001b[1;31m---------------------------------------------------------------------------\u001b[0m",
      "\u001b[1;31mNameError\u001b[0m                                 Traceback (most recent call last)",
      "\u001b[1;32m<timed exec>\u001b[0m in \u001b[0;36m<module>\u001b[1;34m\u001b[0m\n",
      "\u001b[1;31mNameError\u001b[0m: name 'input_data' is not defined"
     ]
    }
   ],
   "source": [
    "%%time\n",
    "def add_FT_nodes(tree, parent, child, level):\n",
    "    d_type = {\n",
    "        'basic': 0,\n",
    "        'or': 0,\n",
    "        'root': 1\n",
    "    }\n",
    "    c_node = child['name']\n",
    "    #добавляем новую вершину дерева\n",
    "    tree.add_node(c_node, impact=child.get('impact', 0), level = level)\n",
    "    #tree.add_node(c_node, impact=child.get('impact', 0))\n",
    "    #смотрим на тип вершины и переводим в потерю\n",
    "    if child['node_type'] == 'k_from_n':\n",
    "        #мажоритарное или - потеря вершины = k - 1\n",
    "        tree.nodes[c_node]['loss'] = int(child['k']) - 1\n",
    "    else:\n",
    "        if child['node_type'] == 'and':\n",
    "            tree.nodes[c_node]['loss'] = len(child['childs']) - 1\n",
    "        else:\n",
    "            #в прочих случаях берем по словарю (или - 0, и - 1, по умолчанию - 0)\n",
    "            tree.nodes[c_node]['loss'] = d_type.get(child['node_type'], 0)\n",
    "    tree.nodes[c_node]['title'] = 'тип: {node_type} k: {loss} ущерб: {impact}'.format(\n",
    "        node_type = child['node_type'], \n",
    "        loss = tree.nodes[c_node]['loss'],\n",
    "        impact = tree.nodes[c_node]['impact']\n",
    "    )\n",
    "    if (child['node_type'] == 'k_from_n') or (child['node_type'] == 'or'):\n",
    "        tree.nodes[c_node]['shape'] = 'triangleDown'\n",
    "    elif (child['node_type'] == 'and'):\n",
    "        tree.nodes[c_node]['shape'] = 'triangle'\n",
    "    else:\n",
    "        tree.nodes[c_node]['shape'] = 'ellipse'\n",
    "       \n",
    "        \n",
    "        \n",
    "    #если  не корень (parent отличается от None)\n",
    "    #добавляем ребро от потомка к предку (для последующего поиска потока)\n",
    "    #у всех ребер пропускная способность = 1\n",
    "    if parent:\n",
    "        tree.add_edge(c_node, parent, capacity=1)\n",
    "    #проходим рекурентно по всем детям\n",
    "    for c in child.get('childs', []):\n",
    "        #рекуррентно вызываем создание узлов\n",
    "        tree = add_FT_nodes(tree, c_node, c, level + 1)\n",
    "    return tree\n",
    "#чтение файла с json описанием дерева неисправностей\n",
    "jf = open('.\\\\' + input_data + '\\\\FT.json','r',encoding='utf-8')\n",
    "FT_j = json.load(jf)\n",
    "\n",
    "FT = nx.DiGraph()\n",
    "#if len(FT_j) > 1:\n",
    "#    print('Неверное дерево неисправностей: более одного корня!')\n",
    "#    exit(1)\n",
    "FT = add_FT_nodes(FT, None, FT_j, 0)\n",
    "root_name = FT_j['name']\n",
    "FT_orig = FT.copy()\n",
    "FT_orig.nodes[root_name]['loss'] = 0"
   ]
  },
  {
   "cell_type": "code",
   "execution_count": null,
   "id": "afbaf15c",
   "metadata": {
    "ExecuteTime": {
     "end_time": "2021-08-03T17:52:07.858798Z",
     "start_time": "2021-08-03T17:52:07.842842Z"
    },
    "scrolled": false
   },
   "outputs": [],
   "source": [
    "\n",
    "nt = Network('750','750px', directed=True, notebook=nb)\n",
    "nt.set_options(\"\"\"\n",
    "  var options = {\n",
    "      \"layout\": {\n",
    "        \"hierarchical\": {\n",
    "          \"enabled\": true,\n",
    "          \"sortMethod\": \"directed\",\n",
    "          \"direction\" : \"UD\"\n",
    "        }\n",
    "      }\n",
    "    }\n",
    "\"\"\"\n",
    ")\n",
    "\n",
    "nt.from_nx(FT)\n",
    "\n",
    "\n",
    "nt.show('FT_full_6.html')"
   ]
  },
  {
   "cell_type": "code",
   "execution_count": null,
   "id": "72424508",
   "metadata": {
    "ExecuteTime": {
     "end_time": "2021-08-03T17:52:10.905847Z",
     "start_time": "2021-08-03T17:52:10.894881Z"
    },
    "pycharm": {
     "name": "#%%\n"
    }
   },
   "outputs": [],
   "source": [
    "#добавляем сток для всех вентилей (вершины с ненулевыми потерями)\n",
    "#добавляем исток для всех листовых вершин\n",
    "FT.add_node('s', color='green')\n",
    "FT.add_node('t', color = 'green')\n",
    "for n in FT.nodes:\n",
    "    #пропускаем добавленные s и t\n",
    "    if (n != 's') and (n != 't'):\n",
    "        #если лист - то нужно добавить ребро от s к n\n",
    "        if FT.degree(n) - len(FT.edges(n)) == 0:\n",
    "            #TODO: необходимо добавить стоимость (для нахождения не просто минимального, но и оптимального набора вершин)\n",
    "            if n in B.nodes():\n",
    "                #ВАЖНО: алгоритм поиска максимального потока минимальной стоимости требует целочисленные веса (стоимости)\n",
    "                weight = int(np.round(B.nodes[n]['length'] * 1000))\n",
    "            FT.add_edge('s', n, capacity = 1 , weight = weight)\n",
    "        if int(FT.nodes[n]['loss']) > 0:\n",
    "            FT.add_edge(n,'t',capacity = int(FT.nodes[n]['loss']))\n"
   ]
  },
  {
   "cell_type": "code",
   "execution_count": null,
   "id": "d10861db",
   "metadata": {
    "ExecuteTime": {
     "end_time": "2021-08-03T17:52:11.478054Z",
     "start_time": "2021-08-03T17:52:11.463097Z"
    }
   },
   "outputs": [],
   "source": [
    "nt = Network('750','750px', directed=True, notebook=nb)\n",
    "\n",
    "nt.from_nx(FT)\n",
    "#nt.show_buttons(filter_='physics')\n",
    "nt.set_options(\"\"\"\n",
    "var options = {\n",
    "  \"physics\": {\n",
    "    \"repulsion\": {\n",
    "      \"springLength\": 325,\n",
    "      \"springConstant\": 0\n",
    "    },\n",
    "    \"minVelocity\": 0.75,\n",
    "    \"solver\": \"repulsion\"\n",
    "  }\n",
    "}\n",
    "\"\"\"\n",
    ")\n",
    "nt.show('G_dash_7.html')"
   ]
  },
  {
   "cell_type": "code",
   "execution_count": null,
   "id": "10b7ffe5",
   "metadata": {
    "ExecuteTime": {
     "end_time": "2021-08-03T17:52:15.096683Z",
     "start_time": "2021-08-03T17:52:15.078703Z"
    }
   },
   "outputs": [],
   "source": [
    "%%time\n",
    "flow_dict = nx.algorithms.flow.max_flow_min_cost(FT, s = 's', t = 't')"
   ]
  },
  {
   "cell_type": "code",
   "execution_count": null,
   "id": "8160b9e6",
   "metadata": {
    "ExecuteTime": {
     "end_time": "2021-08-03T17:52:15.902932Z",
     "start_time": "2021-08-03T17:52:15.897945Z"
    }
   },
   "outputs": [],
   "source": [
    "for (s_node, n_dict) in flow_dict.items():\n",
    "    for (t_node, flow) in n_dict.items():\n",
    "        FT.edges[s_node,t_node]['flow'] = flow\n",
    "        if flow:\n",
    "            FT.edges[s_node,t_node]['color'] = 'red'"
   ]
  },
  {
   "cell_type": "code",
   "execution_count": null,
   "id": "08f3029d",
   "metadata": {
    "ExecuteTime": {
     "end_time": "2021-08-03T17:52:16.476116Z",
     "start_time": "2021-08-03T17:52:16.459162Z"
    }
   },
   "outputs": [],
   "source": [
    "nt = Network('750','750px', directed=True, notebook=nb)\n",
    "\n",
    "nt.from_nx(FT)\n",
    "#nt.show_buttons(filter_='physics')\n",
    "nt.set_options(\"\"\"\n",
    "var options = {\n",
    "  \"physics\": {\n",
    "    \"repulsion\": {\n",
    "      \"springLength\": 325,\n",
    "      \"springConstant\": 0\n",
    "    },\n",
    "    \"minVelocity\": 0.75,\n",
    "    \"solver\": \"repulsion\"\n",
    "  }\n",
    "}\n",
    "\"\"\"\n",
    ")\n",
    "nt.show('G_dash_8.html')"
   ]
  },
  {
   "cell_type": "code",
   "execution_count": null,
   "id": "afa34734",
   "metadata": {
    "ExecuteTime": {
     "end_time": "2021-08-03T17:52:52.850325Z",
     "start_time": "2021-08-03T17:52:52.842347Z"
    }
   },
   "outputs": [],
   "source": [
    "FT.remove_node('s')\n",
    "FT.remove_node('t')\n",
    "for e in list(FT.edges()):\n",
    "    if FT.edges[e].get('flow',0) == 0:\n",
    "        FT.remove_edge(*e)\n"
   ]
  },
  {
   "cell_type": "code",
   "execution_count": null,
   "id": "9bb930b0",
   "metadata": {
    "ExecuteTime": {
     "end_time": "2021-08-03T17:53:05.558050Z",
     "start_time": "2021-08-03T17:53:05.538081Z"
    }
   },
   "outputs": [],
   "source": [
    "nt = Network('750','750px', directed=True, notebook=nb)\n",
    "\n",
    "nt.from_nx(FT)\n",
    "#nt.show_buttons(filter_='physics')\n",
    "nt.set_options(\"\"\"\n",
    "var options = {\n",
    "  \"physics\": {\n",
    "    \"repulsion\": {\n",
    "      \"springLength\": 325,\n",
    "      \"springConstant\": 0\n",
    "    },\n",
    "    \"minVelocity\": 0.75,\n",
    "    \"solver\": \"repulsion\"\n",
    "  }\n",
    "}\n",
    "\"\"\"\n",
    ")\n",
    "nt.show('G_dash_9.html')"
   ]
  },
  {
   "cell_type": "code",
   "execution_count": null,
   "id": "d345a642",
   "metadata": {
    "ExecuteTime": {
     "end_time": "2021-08-03T17:53:27.420339Z",
     "start_time": "2021-08-03T17:53:27.406380Z"
    }
   },
   "outputs": [],
   "source": [
    "%%time\n",
    "FT_reduce = FT.subgraph(nx.shortest_path(FT.to_undirected(),root_name))"
   ]
  },
  {
   "cell_type": "code",
   "execution_count": null,
   "id": "09e7ec20",
   "metadata": {
    "ExecuteTime": {
     "end_time": "2021-08-03T17:53:29.152209Z",
     "start_time": "2021-08-03T17:53:29.126252Z"
    },
    "pycharm": {
     "name": "#%%\n"
    },
    "scrolled": false
   },
   "outputs": [],
   "source": [
    "nt = Network('750','750px', directed=True, notebook=nb)\n",
    "\n",
    "nt.from_nx(FT_reduce)\n",
    "nt.set_options(\"\"\"\n",
    "  var options = {\n",
    "      \"layout\": {\n",
    "        \"hierarchical\": {\n",
    "          \"enabled\": true,\n",
    "          \"sortMethod\": \"directed\",\n",
    "          \"direction\" : \"UD\"\n",
    "        }\n",
    "      }\n",
    "    }\n",
    "\"\"\"\n",
    ")\n",
    "\n",
    "nt.show('FT_10.html')"
   ]
  },
  {
   "cell_type": "code",
   "execution_count": null,
   "id": "13861ab0",
   "metadata": {
    "ExecuteTime": {
     "end_time": "2021-08-03T17:53:37.176341Z",
     "start_time": "2021-08-03T17:53:37.169361Z"
    }
   },
   "outputs": [],
   "source": [
    "targets = []\n",
    "for n in FT_reduce.nodes():\n",
    "     if FT_reduce.degree(n) - len(FT_reduce.edges(n)) == 0:\n",
    "            targets.append(n)\n",
    "targets"
   ]
  },
  {
   "cell_type": "markdown",
   "id": "20153d3a",
   "metadata": {
    "pycharm": {
     "name": "#%% md\n"
    }
   },
   "source": [
    "## Повторное редуцирование остова атак (оставляем только цели из оптимального разреза)"
   ]
  },
  {
   "cell_type": "code",
   "execution_count": null,
   "id": "305365a7",
   "metadata": {
    "ExecuteTime": {
     "end_time": "2021-08-03T17:53:53.733482Z",
     "start_time": "2021-08-03T17:53:53.722540Z"
    }
   },
   "outputs": [],
   "source": [
    "%%time\n",
    "was_del = True\n",
    "while was_del:\n",
    "    was_del = False\n",
    "    for i in list(B.nodes()):\n",
    "        #print(str(i) + '  ' + str(B.edges(i)) + '\\n')\n",
    "        #удаляем все листовые вершины, не попавшие в targets\n",
    "        if (len(B.edges(i)) == 0) and not(i in targets):\n",
    "            B.remove_node(i)\n",
    "            was_del = True"
   ]
  },
  {
   "cell_type": "code",
   "execution_count": null,
   "id": "9f61f031",
   "metadata": {
    "ExecuteTime": {
     "end_time": "2021-08-03T17:54:11.173700Z",
     "start_time": "2021-08-03T17:54:11.153726Z"
    },
    "scrolled": false
   },
   "outputs": [],
   "source": [
    "nt = Network('750','750px', directed=True, notebook=nb)\n",
    "\n",
    "nt.from_nx(B)\n",
    "nt.set_options(\"\"\"\n",
    "  var options = {\n",
    "      \"layout\": {\n",
    "        \"hierarchical\": {\n",
    "          \"enabled\": true,\n",
    "          \"sortMethod\": \"directed\",\n",
    "          \"direction\" : \"UD\"\n",
    "        }\n",
    "      }\n",
    "    }\n",
    "\"\"\"\n",
    ")\n",
    "nt.show('B_reduce2_11.html')\n"
   ]
  },
  {
   "cell_type": "markdown",
   "id": "627873c0",
   "metadata": {
    "pycharm": {
     "name": "#%% md\n"
    }
   },
   "source": [
    "# Симуляция процесса атаки по оптимальному сценарию"
   ]
  },
  {
   "cell_type": "code",
   "execution_count": null,
   "id": "8ed5b661",
   "metadata": {
    "ExecuteTime": {
     "end_time": "2021-08-03T17:54:29.782700Z",
     "start_time": "2021-08-03T17:54:29.766743Z"
    },
    "code_folding": []
   },
   "outputs": [],
   "source": [
    "def mk_attack_path(B, Ctx, target):\n",
    "    pathes = nx.multi_source_dijkstra_path(B,Ctx)\n",
    "    return pathes.get(target, [])[1:]"
   ]
  },
  {
   "cell_type": "code",
   "execution_count": null,
   "id": "3971dbc5",
   "metadata": {
    "ExecuteTime": {
     "end_time": "2021-08-03T17:54:30.383188Z",
     "start_time": "2021-08-03T17:54:30.365208Z"
    },
    "code_folding": [],
    "pycharm": {
     "name": "#%%\n"
    }
   },
   "outputs": [],
   "source": [
    "sym_log = []\n",
    "def log_msg(timestamp, msg_dict):\n",
    "    global sym_log\n",
    "    sym_log.append((timestamp, msg_dict))\n",
    "    return\n",
    "\n",
    "def print_msg():\n",
    "    return\n",
    "\n",
    "msg_type = {\n",
    "    1 : {\n",
    "        'prefix' : 'ATTACK Success',\n",
    "        'desc' : 'Завершена атака в отношении всех доступных активов. Общий ущерб: {impact}'\n",
    "    },\n",
    "    2 : {\n",
    "        'prefix' : 'ATTACK Failed',\n",
    "        'desc' : 'Присутствие злоумышленника устранено на всех активах. Общий ущерб: {impact}'\n",
    "        },\n",
    "    3 : {\n",
    "        'prefix' : 'ATTACK Failed',\n",
    "        'desc' : 'Система остановлена на внеплановое обслуживание из-за действий нарушителя. Общий ущерб: {impact}',\n",
    "    },\n",
    "    4 : {\n",
    "        'prefix' : 'INFO',\n",
    "        'desc' : 'bogus'\n",
    "    },\n",
    "    5 : {\n",
    "        'prefix' : 'ATTACK Started',\n",
    "        'desc' : 'Начата эксплуатация уязвимости {v_id} в отношении актива {a_name}',\n",
    "    },\n",
    "    6 : {\n",
    "        'prefix' : 'ATTACK Success',\n",
    "        'desc' : 'Успешно завершена эксплуатация уязвимости {v_id} в отношении актива {a_name}',\n",
    "    },\n",
    "    7 : {\n",
    "        'prefix' : 'ATTACK Detected',\n",
    "        'desc' : 'Обнаружена эксплуатация уязвимости {v_id} в отношении актива {a_name}. Процесс восстановления займет {TTR} шагов',\n",
    "    },\n",
    "    8 : {\n",
    "        'prefix' : 'IMPACT Applied',\n",
    "        'desc' : 'Нанесен ущерб активу {a_name}. Текущий уровень ущерба: {impact}'\n",
    "    },\n",
    "    9 : {\n",
    "        'prefix' : 'ATTACK Failed',\n",
    "        'desc' : 'Эксплуатация уязвимости {v_id} в отношении актива {a_name} завершилась неуспешно',\n",
    "    },\n",
    "    10 : {\n",
    "        'prefix' : 'ATTACK Detected',\n",
    "        'desc' : 'Обнаружена эксплуатация уязвимости {v_id} с источника атаки {a_name}. Процесс восстановления займет {TTR} шагов'\n",
    "    },\n",
    "    11 : {\n",
    "         'prefix' : 'IMPACT Detected',\n",
    "         'desc' : 'Обнаружен скомпрометированный актив {a_name}. Процесс восстановления займет {TTR} шагов'\n",
    "    }\n",
    "}\n",
    "    \n",
    "\n"
   ]
  },
  {
   "cell_type": "code",
   "execution_count": null,
   "id": "c2a578d2",
   "metadata": {
    "ExecuteTime": {
     "end_time": "2021-08-03T17:54:33.634869Z",
     "start_time": "2021-08-03T17:54:33.626862Z"
    }
   },
   "outputs": [],
   "source": [
    "def count_FT(FT, node, values):\n",
    "    #если число входящих не 0, то это вентиль или корень\n",
    "    if len(FT.in_edges(node)):\n",
    "        #проходим по всем подчиненным вершинам вентиля\n",
    "        level = 0\n",
    "        impact = 0\n",
    "        for suc in FT.predecessors(node):\n",
    "            (delta_impact, res) = count_FT(FT, suc, values)\n",
    "            level = level + res\n",
    "            #для каждого отказавшего узла суммируем ущерб. Соответственно, если для более высокоуровневого узла ущерб не достигнут, \n",
    "            #то будет возвращена сумма по всем достигнутым ущербам\n",
    "            impact = impact + delta_impact\n",
    "        if (level > FT.nodes[node]['loss']):\n",
    "            return (FT.nodes[node].get('impact',0), 1)\n",
    "        else:\n",
    "            return (impact, 0)\n",
    "    #если это листовая вершина (элементарное событие)\n",
    "    else:\n",
    "        if int(node in values['title'].values):\n",
    "            return(FT.nodes[node].get('impact',0), 1)\n",
    "        else:\n",
    "            return(0, 0)\n",
    "\n",
    "\n"
   ]
  },
  {
   "cell_type": "code",
   "execution_count": null,
   "id": "f9c7f513",
   "metadata": {
    "ExecuteTime": {
     "end_time": "2021-08-03T17:54:40.687312Z",
     "start_time": "2021-08-03T17:54:40.664402Z"
    },
    "pycharm": {
     "name": "#%%\n"
    }
   },
   "outputs": [],
   "source": [
    "def sim_attack(B, T, N, Ctx_0, targets):\n",
    "\n",
    "    Ctx = Ctx_0.copy()\n",
    "    AIP = pd.Series(dtype=object)\n",
    "    path = []\n",
    "    total_impact = 0\n",
    "    cur_target = None\n",
    "    impact = pd.DataFrame(columns=['node', 'v_id', 'v_t', 'title', 'P_d'])\n",
    "    val = [list(B.pred[n].keys())[0] for n in targets]\n",
    "\n",
    "\n",
    "\n",
    "    for t in range(1,T + 1, 1):\n",
    "        #условия прекращения симуляции:\n",
    "        #val = [] - все цели поражены\n",
    "        if (len(val) == 0):\n",
    "            #Завершена атака в отношении всех доступных активов. Общий ущерб: {impact}\n",
    "            log_msg(t, {'type' : 1, 'params' : {'impact' : total_impact}})\n",
    "            break\n",
    "        #Ctx = [] - нарушитель побежден (не осталось никакого контекста)\n",
    "        if (len(Ctx) == 0):\n",
    "            #Присутствие злоумышленника устранено на всех активах. Общий ущерб: {impact}\n",
    "            log_msg(t, {'type' : 2, 'params' : {'impact' : total_impact}})\n",
    "            break\n",
    "        #N < 0 - кончились \"жизни\"\n",
    "        if N <= 0:\n",
    "            #Система остановлена на внеплановое обслуживание из-за действий нарушителя. Общий ущерб: {impact}\n",
    "            log_msg(t, {'type' : 3, 'params' : {'impact' : total_impact}})\n",
    "            break\n",
    "\n",
    "\n",
    "        #нет выбранной цели (начало атаки, завершили атаку на цель или изменился контекст в результате работы защитных мер)\n",
    "        if not(cur_target):\n",
    "            path = []\n",
    "            while not(len(path)):\n",
    "                cur_target = val[0]\n",
    "                path = mk_attack_path(B, Ctx, cur_target)\n",
    "                if not(len(path)):\n",
    "                    val.pop()\n",
    "                    cur_target = None\n",
    "                if not(len(val)) and not(cur_target):\n",
    "                    break\n",
    "            if not(cur_target):\n",
    "                break\n",
    "        #нет активной попытки атаки\n",
    "        if (len(AIP) == 0):\n",
    "            #берем, но не выкидываем (если атака будет неуспешной, то нужно повторять ее)\n",
    "            AIP['node'] = path[0]\n",
    "            AIP['v_id'] = list(B.in_edges(AIP['node'], data='label'))[0][2]\n",
    "            AIP['v_t'] = vulner.at[AIP['v_id'],'t']\n",
    "            AIP['title'] = assets.at[A_df.at[AIP['node'],'a_id'],'title']\n",
    "            #Начата эксплуатация уязвимости {v_id} в отношении актива {a_name}\n",
    "            log_msg(t,{'type' : 5, 'params' : {'v_id' : AIP['v_id'], 'a_name' : AIP['title']}})\n",
    "        else:\n",
    "            AIP['v_t'] = AIP['v_t'] - 1\n",
    "        #время текущей атаки завершилось - проверяем результат\n",
    "        if AIP['v_t'] == 0:\n",
    "            #бросок кубика на успех атаки\n",
    "            if vulner.at[AIP['v_id'],'P_v'] > random.random():\n",
    "                #Успешно завершена эксплуатация уязвимости {v_id} в отношении актива {a_name}\n",
    "                log_msg(t,{'type' : 6, 'params' : {'v_id' : AIP['v_id'], 'a_name' : AIP['title']}})\n",
    "                AIP['P_d'] = vulner.at[AIP['v_id'],'P_d']\n",
    "                Ctx.append(AIP['node'])\n",
    "                #если дошли до целевого ущерба\n",
    "                if AIP['node'] == cur_target:\n",
    "                    impact = impact.append(AIP, ignore_index = True)\n",
    "                    val.remove(cur_target)\n",
    "                    path = []\n",
    "                    cur_target = None\n",
    "                    (cur_impact, flag) = count_FT(FT_orig, root_name, impact)\n",
    "                    total_impact = max(total_impact, cur_impact)\n",
    "                    #Нанесен ущерб активу {a_name}. Текущий уровень ущерба: {impact}\n",
    "                    log_msg(t,{'type' : 8, 'params' : {'a_name' : AIP['title'], 'impact' : total_impact}})\n",
    "                else:\n",
    "                    junk = path.pop(0)\n",
    "                #бросок кубика на обнаружение атаки\n",
    "                if AIP['P_d'] > random.random():\n",
    "                    #запуск восстановления, если ранее не было запущено\n",
    "                    if assets.at[A_df.at[AIP['node'],'a_id'],'t_recover'] == 0:\n",
    "                        assets.at[A_df.at[AIP['node'],'a_id'],'t_recover'] = t\n",
    "                    #Обнаружена эксплуатация уязвимости {v_id} в отношении актива {a_name}. Процесс восстановления займет {TTR} шагов\n",
    "                    log_msg(t,{'type' : 7, 'params' : {'v_id' : AIP['v_id'], 'a_name' : AIP['title'], 'TTR' : assets.at[A_df.at[AIP['node'],'a_id'],'TTR']}})\n",
    "                    N = N - 1\n",
    "                #только при успешной атаке мы убираем вершину из пути\n",
    "\n",
    "            #атака неуспешна (бросок кубика не в пользу нарушителя)\n",
    "            else:\n",
    "                #Эксплуатация уязвимости {v_id} в отношении актива {a_name} завершилась неуспешно\n",
    "                log_msg(t,{'type' : 9, 'params' : {'v_id' : AIP['v_id'], 'a_name' : AIP['title']}})\n",
    "                atk_source =  list(B.pred[AIP['node']].keys())[0]\n",
    "                if vulner.at[AIP['v_id'],'P_d'] > random.random():\n",
    "                    #запуск восстановления только, если ранее не было запущено\n",
    "                    if assets.at[A_df.at[atk_source,'a_id'],'t_recover'] == 0:\n",
    "                        assets.at[A_df.at[atk_source,'a_id'],'t_recover'] = t\n",
    "                    #Обнаружена эксплуатация уязвимости {v_id} с источника атаки {a_name}. Процесс восстановления займет {TTR} шагов\n",
    "                    log_msg(t,{'type' : 10, 'params' : {'v_id' : AIP['v_id'], 'a_name' : assets.at[A_df.at[atk_source,'a_id'],'title'], 'TTR' : assets.at[A_df.at[atk_source,'a_id'],'TTR']}})\n",
    "                    N = N - 1\n",
    "            #сброс текущей цели атаки (для выбора следующей цели)\n",
    "            AIP = pd.Series(dtype=object)\n",
    "        #проходим по всем вершинам контекста в поисках тех, где сработал таймер восстановления (или случился детект)\n",
    "        for ctx_node in Ctx:\n",
    "            a_id = A_df.at[ctx_node,'a_id']\n",
    "            asset = assets.loc[a_id]\n",
    "            #если активу нанесен ущерб (каждый ход можем это обнаружить)\n",
    "            if (ctx_node in impact['node'].values) and (asset['t_recover'] == 0):\n",
    "                impact_node = impact.loc[impact['node'] == ctx_node]\n",
    "                impact_node = impact_node.iloc[0]\n",
    "                if impact_node['P_d'] > random.random():\n",
    "                    assets.at[A_df.at[ctx_node,'a_id'],'t_recover'] = t\n",
    "                    #Обнаружен скомпрометированный актив {a_name}. Процесс восстановления займет {TTR} шагов\n",
    "                    log_msg(t,{'type' : 11, 'params' : {'a_name' : impact_node['title'], 'TTR' : assets.at[A_df.at[ctx_node,'a_id'],'TTR']}})\n",
    "                    N = N - 1\n",
    "            #завершено восстановление актива\n",
    "            if (asset['t_recover'] > 0) and (t - asset['t_recover'] >= asset['TTR'] ):\n",
    "                assets.at[a_id,'t_recover'] = 0\n",
    "                #удаляем из набора impact\n",
    "                idx = list(impact[impact['node'] == ctx_node].index)\n",
    "                impact.drop(labels=idx, axis=0, inplace=True)\n",
    "                val.extend(idx)\n",
    "                #удаляем все вхождения в конекст\n",
    "                idx = list(A_df[A_df['a_id'] == a_id].index)\n",
    "                for idx_iter in idx:\n",
    "                    if idx_iter in Ctx:\n",
    "                        Ctx.remove(idx_iter)\n",
    "                #после изменения контекста некоторые цели могли стать недоступны - нужно перестроить граф\n",
    "                #и убрать лишнее из массива val\n",
    "                sub_nodes = set()\n",
    "                for b_node in Ctx:\n",
    "                    sub_nodes.union(set(nx.shortest_path(B.to_undirected(),b_node)))\n",
    "                B = B.subgraph(list(sub_nodes))\n",
    "                val = []\n",
    "                for n in targets:\n",
    "                    if n in B:\n",
    "                        val.append(list(B.pred[n].keys())[0])\n",
    "                path = []\n",
    "                cur_target = None\n",
    "                AIP = pd.Series(dtype=object)\n",
    "            #обход периодических мер\n",
    "            for (t_idx, t_measure) in t_measures.iterrows():\n",
    "                #прошел период\n",
    "                if np.mod(t,t_measure['Период']) == 0:\n",
    "                    #обходим вершины в контексте\n",
    "                    for ctx_node in Ctx:\n",
    "                        a_id = A_df.at[ctx_node,'a_id']\n",
    "                        asset = assets.loc[a_id]\n",
    "                        #если мера обнаружила компрометированный актив\n",
    "                        if t_measure['P_d'] > random.random():\n",
    "                            assets.at[a_id,'t_recover'] = t\n",
    "                            #Обнаружен скомпрометированный актив {a_name}. Процесс восстановления займет {TTR} шагов\n",
    "                            log_msg(t,{'type' : 11, 'params' : {'a_name' : assets.at[A_df.at[ctx_node,'a_id'],'title'], 'TTR' : assets.at[A_df.at[ctx_node,'a_id'],'TTR']}})\n",
    "                            N = N - 1\n",
    "    return (t, total_impact)\n"
   ]
  },
  {
   "cell_type": "code",
   "execution_count": null,
   "id": "64982603",
   "metadata": {
    "ExecuteTime": {
     "end_time": "2021-08-03T17:07:29.869404Z",
     "start_time": "2021-08-03T17:07:25.072124Z"
    },
    "pycharm": {
     "is_executing": true
    }
   },
   "outputs": [],
   "source": [
    "%%time\n",
    "num_sim = 100\n",
    "\n",
    "\n",
    "\n",
    "#исходные данные для симуляции:\n",
    "#B - уже оптимизированное дерево\n",
    "sym_log = []\n",
    "#максимальное время симуляции\n",
    "T = 1000\n",
    "#уровень бдительности (\"жизни\")\n",
    "N = 5\n",
    "#Конекст на дереве атак\n",
    "Ctx_0 = list(B.succ['start'].keys())\n",
    "#targets - массив предков целевых вершин (листьев) - так листья добавлялись для поиска оптимальных путей\n",
    "\n",
    "\n",
    "res = {}\n",
    "\n",
    "for i in range(0,num_sim):\n",
    "    #(t, impact) = sim_attack(B, T, N, Ctx_0, targets)\n",
    "    (t, impact) = sim_attack(G_dash, T, N, Ctx_0, targets)\n",
    "    if impact in res.keys():\n",
    "        res[impact] = [res[impact][0] + 1, res[impact][1] + t]\n",
    "    else:\n",
    "        res[impact] = [1, t]\n"
   ]
  },
  {
   "cell_type": "code",
   "execution_count": null,
   "id": "62eb02a2",
   "metadata": {
    "ExecuteTime": {
     "end_time": "2021-08-03T17:07:29.885258Z",
     "start_time": "2021-08-03T17:07:29.870295Z"
    },
    "pycharm": {
     "name": "#%%\n"
    }
   },
   "outputs": [],
   "source": [
    "#считаем среднее время атаки для каждого уровня ущерба\n",
    "for (key, val) in res.items():\n",
    "    res[key][1] = val[1]/val[0]"
   ]
  },
  {
   "cell_type": "code",
   "execution_count": null,
   "id": "607bd13b",
   "metadata": {
    "ExecuteTime": {
     "end_time": "2021-08-03T17:07:29.900218Z",
     "start_time": "2021-08-03T17:07:29.887252Z"
    },
    "pycharm": {
     "name": "#%%\n"
    }
   },
   "outputs": [],
   "source": [
    "res"
   ]
  },
  {
   "cell_type": "code",
   "execution_count": null,
   "id": "8ced1e40",
   "metadata": {
    "pycharm": {
     "name": "#%%\n"
    }
   },
   "outputs": [],
   "source": [
    "sym_log"
   ]
  }
 ],
 "metadata": {
  "celltoolbar": "Отсутствует",
  "kernelspec": {
   "display_name": "Python 3",
   "language": "python",
   "name": "python3"
  },
  "language_info": {
   "codemirror_mode": {
    "name": "ipython",
    "version": 3
   },
   "file_extension": ".py",
   "mimetype": "text/x-python",
   "name": "python",
   "nbconvert_exporter": "python",
   "pygments_lexer": "ipython3",
   "version": "3.8.10"
  },
  "toc": {
   "base_numbering": 1,
   "nav_menu": {},
   "number_sections": true,
   "sideBar": true,
   "skip_h1_title": false,
   "title_cell": "Table of Contents",
   "title_sidebar": "Contents",
   "toc_cell": false,
   "toc_position": {},
   "toc_section_display": true,
   "toc_window_display": false
  },
  "varInspector": {
   "cols": {
    "lenName": 16,
    "lenType": 16,
    "lenVar": 40
   },
   "kernels_config": {
    "python": {
     "delete_cmd_postfix": "",
     "delete_cmd_prefix": "del ",
     "library": "var_list.py",
     "varRefreshCmd": "print(var_dic_list())"
    },
    "r": {
     "delete_cmd_postfix": ") ",
     "delete_cmd_prefix": "rm(",
     "library": "var_list.r",
     "varRefreshCmd": "cat(var_dic_list()) "
    }
   },
   "types_to_exclude": [
    "module",
    "function",
    "builtin_function_or_method",
    "instance",
    "_Feature"
   ],
   "window_display": false
  }
 },
 "nbformat": 4,
 "nbformat_minor": 5
}
