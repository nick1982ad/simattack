{
 "cells": [
  {
   "cell_type": "code",
   "execution_count": 1,
   "id": "93791c76",
   "metadata": {},
   "outputs": [],
   "source": [
    "import numpy as np\n",
    "import networkx as nx\n",
    "import time\n",
    "#from pyvis.network import Network\n",
    "import pandas as pd\n",
    "import numpy as np\n",
    "from collections import OrderedDict\n",
    "import json\n",
    "import random"
   ]
  },
  {
   "cell_type": "code",
   "execution_count": 2,
   "id": "20038665",
   "metadata": {},
   "outputs": [],
   "source": [
    "weight = np.array([0,1,np.inf])\n",
    "rng = np.random.default_rng()"
   ]
  },
  {
   "cell_type": "code",
   "execution_count": 14,
   "id": "1cbae011",
   "metadata": {},
   "outputs": [],
   "source": [
    "input_data = 'example1'\n",
    "vulner = pd.read_excel('.\\\\' + input_data + '\\\\data.xlsx',sheet_name='Vulnerabilities', index_col='id')\n",
    "counter_m = pd.read_excel('.\\\\' + input_data + '\\\\data.xlsx',sheet_name='C-Measures', index_col='id')\n",
    "prevent_matrix = pd.read_excel('.\\\\' + input_data + '\\\\data.xlsx',sheet_name='Measures-Vuln-P', index_col='id', dtype=object)\n",
    "detect_matrix = pd.read_excel('.\\\\' + input_data + '\\\\data.xlsx',sheet_name='Measures-Vuln-D', index_col='id', dtype=object)"
   ]
  },
  {
   "cell_type": "code",
   "execution_count": 5,
   "id": "cd0b95c8",
   "metadata": {},
   "outputs": [
    {
     "data": {
      "text/plain": [
       "array([ 0.,  0.,  1.,  0., inf,  1.,  0.,  1.,  1.,  0.,  0.,  1.,  0.,\n",
       "        0.,  1.,  1.,  0.,  0.,  1.,  1.,  0.,  1.,  0.,  1.,  1.,  1.,\n",
       "        0.,  0.,  1.,  0.,  0.,  1.,  1.,  0.,  0.,  1.,  1.,  0.,  1.,\n",
       "        0.,  0., inf,  1.,  1.,  1.,  0.,  0., inf,  0.,  1.,  1., inf,\n",
       "        0.,  0.,  1.,  0.,  0.,  0.,  1.,  0.,  1., inf,  0.,  0.,  1.,\n",
       "        1.,  0.,  1.,  1.,  1.,  1.,  1.,  1.,  1.,  1.,  0.,  1.,  0.,\n",
       "        0.,  1.,  1.,  0.,  1.,  1.,  0.,  0.,  0.,  1.,  1.,  1.,  1.,\n",
       "        0.,  0.,  0.,  0.,  0.,  1.,  1.,  0.,  1.])"
      ]
     },
     "execution_count": 5,
     "metadata": {},
     "output_type": "execute_result"
    }
   ],
   "source": [
    "rng.choice(weight, size = 100, p = [0.4,0.5,0.1])"
   ]
  },
  {
   "cell_type": "code",
   "execution_count": 6,
   "id": "19946fae",
   "metadata": {},
   "outputs": [],
   "source": [
    "t_begin = time.time()\n",
    "G = nx.generators.random_graphs.dense_gnm_random_graph(15000,20000)\n",
    "t_end = time.time()"
   ]
  },
  {
   "cell_type": "code",
   "execution_count": 7,
   "id": "7930c4c1",
   "metadata": {},
   "outputs": [
    {
     "data": {
      "text/plain": [
       "111.38713788986206"
      ]
     },
     "execution_count": 7,
     "metadata": {},
     "output_type": "execute_result"
    }
   ],
   "source": [
    "t_end - t_begin"
   ]
  },
  {
   "cell_type": "code",
   "execution_count": 8,
   "id": "7f243fef",
   "metadata": {},
   "outputs": [],
   "source": [
    "for e in list(G.edges):\n",
    "    G.edges[e]['weight'] = rng.choice(weight, size = 1, p = [0.4,0.5,0.1])"
   ]
  },
  {
   "cell_type": "code",
   "execution_count": 9,
   "id": "cb1200dc",
   "metadata": {},
   "outputs": [],
   "source": [
    "Link_MG = G.copy()"
   ]
  },
  {
   "cell_type": "code",
   "execution_count": 15,
   "id": "b1b0778a",
   "metadata": {},
   "outputs": [
    {
     "data": {
      "text/plain": [
       "6"
      ]
     },
     "execution_count": 15,
     "metadata": {},
     "output_type": "execute_result"
    }
   ],
   "source": [
    "len(vulner.index)"
   ]
  },
  {
   "cell_type": "code",
   "execution_count": 22,
   "id": "bd105e45",
   "metadata": {},
   "outputs": [],
   "source": [
    "vuln_matrix_np = np.random.choice([0,1], size = (len(vulner.index),15000), p = [0.9,0.1])"
   ]
  },
  {
   "cell_type": "code",
   "execution_count": 7,
   "id": "731240fe",
   "metadata": {},
   "outputs": [
    {
     "name": "stdout",
     "output_type": "stream",
     "text": [
      "Wall time: 6.89 s\n"
     ]
    }
   ],
   "source": [
    "%%time\n",
    "graph_matrix = np.random.choice([0,1],size = (20000,15000), p = [0.9,0.1])"
   ]
  },
  {
   "cell_type": "code",
   "execution_count": 6,
   "id": "988c2d34",
   "metadata": {},
   "outputs": [
    {
     "data": {
      "text/plain": [
       "array([0, 0, 0, ..., 0, 0, 0])"
      ]
     },
     "execution_count": 6,
     "metadata": {},
     "output_type": "execute_result"
    }
   ],
   "source": [
    "graph_matrix"
   ]
  },
  {
   "cell_type": "code",
   "execution_count": 24,
   "id": "b313694b",
   "metadata": {},
   "outputs": [],
   "source": [
    "vuln_matrix = pd.DataFrame(data=vuln_matrix_np, index = vulner.index)"
   ]
  },
  {
   "cell_type": "code",
   "execution_count": 25,
   "id": "7933e9bf",
   "metadata": {},
   "outputs": [
    {
     "data": {
      "text/html": [
       "<div>\n",
       "<style scoped>\n",
       "    .dataframe tbody tr th:only-of-type {\n",
       "        vertical-align: middle;\n",
       "    }\n",
       "\n",
       "    .dataframe tbody tr th {\n",
       "        vertical-align: top;\n",
       "    }\n",
       "\n",
       "    .dataframe thead th {\n",
       "        text-align: right;\n",
       "    }\n",
       "</style>\n",
       "<table border=\"1\" class=\"dataframe\">\n",
       "  <thead>\n",
       "    <tr style=\"text-align: right;\">\n",
       "      <th></th>\n",
       "      <th>0</th>\n",
       "      <th>1</th>\n",
       "      <th>2</th>\n",
       "      <th>3</th>\n",
       "      <th>4</th>\n",
       "      <th>5</th>\n",
       "      <th>6</th>\n",
       "      <th>7</th>\n",
       "      <th>8</th>\n",
       "      <th>9</th>\n",
       "      <th>...</th>\n",
       "      <th>14990</th>\n",
       "      <th>14991</th>\n",
       "      <th>14992</th>\n",
       "      <th>14993</th>\n",
       "      <th>14994</th>\n",
       "      <th>14995</th>\n",
       "      <th>14996</th>\n",
       "      <th>14997</th>\n",
       "      <th>14998</th>\n",
       "      <th>14999</th>\n",
       "    </tr>\n",
       "    <tr>\n",
       "      <th>id</th>\n",
       "      <th></th>\n",
       "      <th></th>\n",
       "      <th></th>\n",
       "      <th></th>\n",
       "      <th></th>\n",
       "      <th></th>\n",
       "      <th></th>\n",
       "      <th></th>\n",
       "      <th></th>\n",
       "      <th></th>\n",
       "      <th></th>\n",
       "      <th></th>\n",
       "      <th></th>\n",
       "      <th></th>\n",
       "      <th></th>\n",
       "      <th></th>\n",
       "      <th></th>\n",
       "      <th></th>\n",
       "      <th></th>\n",
       "      <th></th>\n",
       "      <th></th>\n",
       "    </tr>\n",
       "  </thead>\n",
       "  <tbody>\n",
       "    <tr>\n",
       "      <th>v1</th>\n",
       "      <td>0</td>\n",
       "      <td>0</td>\n",
       "      <td>0</td>\n",
       "      <td>0</td>\n",
       "      <td>0</td>\n",
       "      <td>0</td>\n",
       "      <td>0</td>\n",
       "      <td>0</td>\n",
       "      <td>0</td>\n",
       "      <td>0</td>\n",
       "      <td>...</td>\n",
       "      <td>0</td>\n",
       "      <td>0</td>\n",
       "      <td>0</td>\n",
       "      <td>0</td>\n",
       "      <td>0</td>\n",
       "      <td>0</td>\n",
       "      <td>1</td>\n",
       "      <td>0</td>\n",
       "      <td>1</td>\n",
       "      <td>0</td>\n",
       "    </tr>\n",
       "    <tr>\n",
       "      <th>v2</th>\n",
       "      <td>1</td>\n",
       "      <td>1</td>\n",
       "      <td>0</td>\n",
       "      <td>0</td>\n",
       "      <td>0</td>\n",
       "      <td>0</td>\n",
       "      <td>0</td>\n",
       "      <td>0</td>\n",
       "      <td>0</td>\n",
       "      <td>0</td>\n",
       "      <td>...</td>\n",
       "      <td>0</td>\n",
       "      <td>0</td>\n",
       "      <td>0</td>\n",
       "      <td>0</td>\n",
       "      <td>0</td>\n",
       "      <td>0</td>\n",
       "      <td>0</td>\n",
       "      <td>0</td>\n",
       "      <td>0</td>\n",
       "      <td>0</td>\n",
       "    </tr>\n",
       "    <tr>\n",
       "      <th>v3</th>\n",
       "      <td>0</td>\n",
       "      <td>0</td>\n",
       "      <td>0</td>\n",
       "      <td>0</td>\n",
       "      <td>1</td>\n",
       "      <td>0</td>\n",
       "      <td>0</td>\n",
       "      <td>0</td>\n",
       "      <td>0</td>\n",
       "      <td>0</td>\n",
       "      <td>...</td>\n",
       "      <td>1</td>\n",
       "      <td>0</td>\n",
       "      <td>0</td>\n",
       "      <td>0</td>\n",
       "      <td>0</td>\n",
       "      <td>0</td>\n",
       "      <td>0</td>\n",
       "      <td>0</td>\n",
       "      <td>0</td>\n",
       "      <td>0</td>\n",
       "    </tr>\n",
       "    <tr>\n",
       "      <th>v4</th>\n",
       "      <td>0</td>\n",
       "      <td>0</td>\n",
       "      <td>0</td>\n",
       "      <td>1</td>\n",
       "      <td>0</td>\n",
       "      <td>0</td>\n",
       "      <td>1</td>\n",
       "      <td>0</td>\n",
       "      <td>0</td>\n",
       "      <td>1</td>\n",
       "      <td>...</td>\n",
       "      <td>0</td>\n",
       "      <td>0</td>\n",
       "      <td>0</td>\n",
       "      <td>0</td>\n",
       "      <td>0</td>\n",
       "      <td>0</td>\n",
       "      <td>0</td>\n",
       "      <td>0</td>\n",
       "      <td>0</td>\n",
       "      <td>0</td>\n",
       "    </tr>\n",
       "    <tr>\n",
       "      <th>v5</th>\n",
       "      <td>0</td>\n",
       "      <td>0</td>\n",
       "      <td>0</td>\n",
       "      <td>0</td>\n",
       "      <td>0</td>\n",
       "      <td>1</td>\n",
       "      <td>0</td>\n",
       "      <td>0</td>\n",
       "      <td>0</td>\n",
       "      <td>0</td>\n",
       "      <td>...</td>\n",
       "      <td>0</td>\n",
       "      <td>0</td>\n",
       "      <td>0</td>\n",
       "      <td>0</td>\n",
       "      <td>0</td>\n",
       "      <td>0</td>\n",
       "      <td>0</td>\n",
       "      <td>0</td>\n",
       "      <td>0</td>\n",
       "      <td>0</td>\n",
       "    </tr>\n",
       "    <tr>\n",
       "      <th>v6</th>\n",
       "      <td>0</td>\n",
       "      <td>0</td>\n",
       "      <td>1</td>\n",
       "      <td>0</td>\n",
       "      <td>0</td>\n",
       "      <td>0</td>\n",
       "      <td>0</td>\n",
       "      <td>0</td>\n",
       "      <td>1</td>\n",
       "      <td>0</td>\n",
       "      <td>...</td>\n",
       "      <td>0</td>\n",
       "      <td>0</td>\n",
       "      <td>0</td>\n",
       "      <td>0</td>\n",
       "      <td>0</td>\n",
       "      <td>0</td>\n",
       "      <td>0</td>\n",
       "      <td>0</td>\n",
       "      <td>0</td>\n",
       "      <td>0</td>\n",
       "    </tr>\n",
       "  </tbody>\n",
       "</table>\n",
       "<p>6 rows × 15000 columns</p>\n",
       "</div>"
      ],
      "text/plain": [
       "    0      1      2      3      4      5      6      7      8      9      ...  \\\n",
       "id                                                                        ...   \n",
       "v1      0      0      0      0      0      0      0      0      0      0  ...   \n",
       "v2      1      1      0      0      0      0      0      0      0      0  ...   \n",
       "v3      0      0      0      0      1      0      0      0      0      0  ...   \n",
       "v4      0      0      0      1      0      0      1      0      0      1  ...   \n",
       "v5      0      0      0      0      0      1      0      0      0      0  ...   \n",
       "v6      0      0      1      0      0      0      0      0      1      0  ...   \n",
       "\n",
       "    14990  14991  14992  14993  14994  14995  14996  14997  14998  14999  \n",
       "id                                                                        \n",
       "v1      0      0      0      0      0      0      1      0      1      0  \n",
       "v2      0      0      0      0      0      0      0      0      0      0  \n",
       "v3      1      0      0      0      0      0      0      0      0      0  \n",
       "v4      0      0      0      0      0      0      0      0      0      0  \n",
       "v5      0      0      0      0      0      0      0      0      0      0  \n",
       "v6      0      0      0      0      0      0      0      0      0      0  \n",
       "\n",
       "[6 rows x 15000 columns]"
      ]
     },
     "execution_count": 25,
     "metadata": {},
     "output_type": "execute_result"
    }
   ],
   "source": [
    "vuln_matrix"
   ]
  },
  {
   "cell_type": "code",
   "execution_count": 32,
   "id": "f58a9d05",
   "metadata": {},
   "outputs": [],
   "source": [
    "vulner.loc[vulner.AV == 'P','AV'] = -np.inf\n",
    "vulner.loc[vulner.AV == 'L','AV'] = 0\n",
    "vulner.loc[vulner.AV == 'A','AV'] = 1\n",
    "vulner.loc[vulner.AV == 'N','AV'] = 2\n",
    "\n",
    "vulner.loc[vulner.PR == 'N','PR'] = 0\n",
    "vulner.loc[vulner.PR == 'L','PR'] = 1\n",
    "vulner.loc[vulner.PR == 'H','PR'] = 2\n",
    "\n",
    "vulner.loc[vulner['s.AV'] == 'P','s.AV'] = np.inf\n",
    "vulner.loc[vulner['s.AV'] == 'L','s.AV'] = 0\n",
    "vulner.loc[vulner['s.AV'] == 'A','s.AV'] = 1\n",
    "vulner.loc[vulner['s.AV'] == 'N','s.AV'] = 2\n",
    "\n",
    "vulner.loc[vulner['s.PR'] == 'N','s.PR'] = 0\n",
    "vulner.loc[vulner['s.PR'] == 'L','s.PR'] = 1\n",
    "vulner.loc[vulner['s.PR'] == 'H','s.PR'] = 2"
   ]
  },
  {
   "cell_type": "code",
   "execution_count": 35,
   "id": "fef853a0",
   "metadata": {},
   "outputs": [],
   "source": [
    "cont_counter_m = counter_m[counter_m['Период'] == 0]\n",
    "k = 1"
   ]
  },
  {
   "cell_type": "code",
   "execution_count": 36,
   "id": "acc27b18",
   "metadata": {},
   "outputs": [],
   "source": [
    "for (vuln, prob) in prevent_matrix.iteritems():\n",
    "    vulner.at[vuln, 'P_v'] = (1 - prob[cont_counter_m.index]).prod() * k * vulner.at[vuln,'Prob']\n",
    "for (vuln, prob) in detect_matrix.iteritems():\n",
    "    vulner.at[vuln, 'P_d'] = 1 - (1 - prob[cont_counter_m.index]).prod()\n",
    "    "
   ]
  },
  {
   "cell_type": "code",
   "execution_count": 37,
   "id": "ca58b695",
   "metadata": {},
   "outputs": [],
   "source": [
    "#CtxA\n",
    "def get_asset(df, col_name, val):\n",
    "    return df[df[col_name] == val]\n",
    "#CtxN\n",
    "def get_all_assets(df, col_name):\n",
    "    return df[col_name].unique()\n",
    "#Pr(a)\n",
    "def get_pr_asset(df, col_name, val, pr_col_name):\n",
    "    sub_df = df[df[col_name] == val]\n",
    "    if len(sub_df):\n",
    "        return df[df[col_name] == val][pr_col_name].max()\n",
    "    else:\n",
    "        return 0\n",
    "#PhAdj(a)\n",
    "def phys_adj(G, node):\n",
    "    return [n for n in G.neighbors(node) if G.edges[node,n]['weight'] == np.inf]"
   ]
  },
  {
   "cell_type": "code",
   "execution_count": 38,
   "id": "d4920b0e",
   "metadata": {},
   "outputs": [],
   "source": [
    "#задаем контекст\n",
    "cols = ['a_id', 'AV', 'PR', 'I']\n",
    "Ctx_0 = pd.DataFrame(columns = cols)\n",
    "#___________________контекст для example1___________________________________________\n",
    "Ctx_0 = Ctx_0.append({'a_id' : 4, 'AV' : 0, 'PR' : 0, 'I' : 0}, ignore_index = True)\n",
    "Ctx_0 = Ctx_0.append({'a_id' : 9, 'AV' : np.inf, 'PR' : 0, 'I' : 0}, ignore_index = True)\n",
    "#___________________контекст для minimal___________________________________________\n",
    "#Ctx_0 = Ctx_0.append({'a_id' : 0, 'AV' : 0, 'PR' : 0, 'I' : 0}, ignore_index = True)\n",
    "#Ctx_0 = Ctx_0.append({'a_id' : 1, 'AV' : 0, 'PR' : 0, 'I' : 0}, ignore_index = True)"
   ]
  },
  {
   "cell_type": "code",
   "execution_count": 41,
   "id": "25a30d83",
   "metadata": {},
   "outputs": [],
   "source": [
    "G_dash = nx.MultiDiGraph()"
   ]
  },
  {
   "cell_type": "code",
   "execution_count": 42,
   "id": "91d69fb1",
   "metadata": {},
   "outputs": [],
   "source": [
    "#инциализация графа начальным контекстом\n",
    "G_dash.add_nodes_from(list(Ctx_0.index))\n",
    "#nx.set_node_attributes(G_dash, Ctx_0.to_dict(orient='index'))\n",
    "#вспомогательный DataFrame для более удобных выборок врешин (возможно не надо писать атрибуты в граф)\n",
    "A_df = pd.DataFrame(Ctx_0)\n",
    "\n",
    "#инициализация переменного контекста\n",
    "Ctx = pd.DataFrame(Ctx_0)"
   ]
  },
  {
   "cell_type": "code",
   "execution_count": 46,
   "id": "a1138917",
   "metadata": {},
   "outputs": [
    {
     "ename": "OverflowError",
     "evalue": "cannot convert float infinity to integer",
     "output_type": "error",
     "traceback": [
      "\u001b[1;31m---------------------------------------------------------------------------\u001b[0m",
      "\u001b[1;31mOverflowError\u001b[0m                             Traceback (most recent call last)",
      "\u001b[1;32m<ipython-input-46-a239ece49000>\u001b[0m in \u001b[0;36m<module>\u001b[1;34m()\u001b[0m\n\u001b[0;32m     39\u001b[0m             \u001b[0md\u001b[0m \u001b[1;33m=\u001b[0m \u001b[1;36m0\u001b[0m\u001b[1;33m\u001b[0m\u001b[1;33m\u001b[0m\u001b[0m\n\u001b[0;32m     40\u001b[0m             \u001b[1;32mif\u001b[0m \u001b[0mnx\u001b[0m\u001b[1;33m.\u001b[0m\u001b[0malgorithms\u001b[0m\u001b[1;33m.\u001b[0m\u001b[0mshortest_paths\u001b[0m\u001b[1;33m.\u001b[0m\u001b[0mgeneric\u001b[0m\u001b[1;33m.\u001b[0m\u001b[0mhas_path\u001b[0m\u001b[1;33m(\u001b[0m\u001b[0mLink_MG\u001b[0m\u001b[1;33m,\u001b[0m \u001b[0msource\u001b[0m \u001b[1;33m=\u001b[0m \u001b[0ma_begin\u001b[0m\u001b[1;33m[\u001b[0m\u001b[1;34m'a_id'\u001b[0m\u001b[1;33m]\u001b[0m\u001b[1;33m,\u001b[0m \u001b[0mtarget\u001b[0m \u001b[1;33m=\u001b[0m \u001b[0ma_end_id\u001b[0m\u001b[1;33m)\u001b[0m\u001b[1;33m:\u001b[0m\u001b[1;33m\u001b[0m\u001b[1;33m\u001b[0m\u001b[0m\n\u001b[1;32m---> 41\u001b[1;33m                 \u001b[0md\u001b[0m \u001b[1;33m=\u001b[0m \u001b[0mint\u001b[0m\u001b[1;33m(\u001b[0m\u001b[0mnx\u001b[0m\u001b[1;33m.\u001b[0m\u001b[0mshortest_path_length\u001b[0m\u001b[1;33m(\u001b[0m\u001b[0mLink_MG\u001b[0m\u001b[1;33m,\u001b[0m \u001b[0msource\u001b[0m \u001b[1;33m=\u001b[0m \u001b[0ma_begin\u001b[0m\u001b[1;33m[\u001b[0m\u001b[1;34m'a_id'\u001b[0m\u001b[1;33m]\u001b[0m\u001b[1;33m,\u001b[0m \u001b[0mtarget\u001b[0m \u001b[1;33m=\u001b[0m \u001b[0ma_end_id\u001b[0m\u001b[1;33m,\u001b[0m \u001b[0mweight\u001b[0m \u001b[1;33m=\u001b[0m \u001b[1;34m'weight'\u001b[0m\u001b[1;33m)\u001b[0m\u001b[1;33m)\u001b[0m\u001b[1;33m\u001b[0m\u001b[1;33m\u001b[0m\u001b[0m\n\u001b[0m\u001b[0;32m     42\u001b[0m             \u001b[1;32melse\u001b[0m\u001b[1;33m:\u001b[0m\u001b[1;33m\u001b[0m\u001b[1;33m\u001b[0m\u001b[0m\n\u001b[0;32m     43\u001b[0m                 \u001b[0md\u001b[0m \u001b[1;33m=\u001b[0m \u001b[0mnp\u001b[0m\u001b[1;33m.\u001b[0m\u001b[0minf\u001b[0m\u001b[1;33m\u001b[0m\u001b[1;33m\u001b[0m\u001b[0m\n",
      "\u001b[1;31mOverflowError\u001b[0m: cannot convert float infinity to integer"
     ]
    }
   ],
   "source": [
    "t_begin = time.time()\n",
    "#Основной цикл\n",
    "while len(Ctx.index):\n",
    "\n",
    "    #извлечь вершину из текущего контекста\n",
    "    a_begin = Ctx.iloc[-1]\n",
    "    Ctx = Ctx.drop([a_begin.name])\n",
    "    if a_begin['AV'] == np.inf:\n",
    "        a_end_list = phys_adj(Link_MG,a_begin['a_id'])\n",
    "        a_end_list.append(a_begin['a_id'])\n",
    "        for a_end_id in a_end_list:\n",
    "            a_name = a_end_id\n",
    "            pr_a = get_pr_asset(A_df, 'a_id', a_end_id, 'PR')\n",
    "            v_index = list(vuln_matrix[vuln_matrix[a_name] == 1].index)\n",
    "            v_sub_df = vulner.loc[v_index]\n",
    "            v_sub_df = v_sub_df[v_sub_df.PR <= pr_a]\n",
    "            for v_id, v_data in v_sub_df.iterrows():\n",
    "                str_search = \"(a_id == {a_id}) & (AV == {v_AV}) & (PR == {v_PR}) & (I == {I})\".format(\n",
    "                    a_id=a_end_id, \n",
    "                    v_AV = v_data['s.AV'], \n",
    "                    v_PR = v_data['s.PR'], \n",
    "                    I = v_data['Imp']\n",
    "                )\n",
    "                a_ex_ind = A_df.query(str_search).index\n",
    "                #не найдена такая вершина в графе\n",
    "                if len(a_ex_ind) == 0:\n",
    "                    a_dict = {'a_id' : a_end_id, 'AV' : v_data['s.AV'], 'PR' : v_data['s.PR'], 'I' : v_data['Imp']}\n",
    "                    A_df = A_df.append(a_dict, ignore_index = True)\n",
    "                    a_series = A_df.iloc[-1]\n",
    "                    a_ex_ind = a_series.name\n",
    "                    G_dash.add_node(int(a_ex_ind))\n",
    "                    if a_series['I'] == 0:\n",
    "                        Ctx = Ctx.append(A_df.iloc[a_ex_ind])\n",
    "                else:\n",
    "                    a_ex_ind = a_ex_ind[0]\n",
    "                G_dash.add_edge(int(a_begin.name), int(a_ex_ind), label = v_id)\n",
    "    else:\n",
    "        for a_end_id in Link_MG.nodes():\n",
    "            d = 0\n",
    "            if nx.algorithms.shortest_paths.generic.has_path(Link_MG, source = a_begin['a_id'], target = a_end_id):\n",
    "                d = int(nx.shortest_path_length(Link_MG, source = a_begin['a_id'], target = a_end_id, weight = 'weight'))\n",
    "            else:\n",
    "                d = np.inf\n",
    "            a_name = a_end_id\n",
    "            pr_a = get_pr_asset(A_df, 'a_id', a_end_id, 'PR')\n",
    "            v_index = list(vuln_matrix[vuln_matrix[a_name] == 1].index)\n",
    "            if len(v_index):\n",
    "                v_sub_df = vulner.loc[v_index]\n",
    "                v_sub_df = v_sub_df[(v_sub_df.PR <= pr_a) & (v_sub_df.AV >= a_begin['AV'] + d)]\n",
    "                for v_id, v_data in v_sub_df.iterrows():\n",
    "                    str_search = \"(a_id == {a_id}) & (AV == {v_AV}) & (PR == {v_PR}) & (I == {I})\".format(\n",
    "                        a_id=a_end_id, \n",
    "                        v_AV = v_data['s.AV'], \n",
    "                        v_PR = v_data['s.PR'], \n",
    "                        I = v_data['Imp']\n",
    "                    )\n",
    "                    a_ex_ind = A_df.query(str_search).index\n",
    "                    #не найдена такая вершина в графе\n",
    "                    if len(a_ex_ind) == 0:\n",
    "                        a_dict = {'a_id' : a_end_id, 'AV' : v_data['s.AV'], 'PR' : v_data['s.PR'], 'I' : v_data['Imp']}\n",
    "                        A_df = A_df.append(a_dict, ignore_index = True)\n",
    "                        a_series = A_df.iloc[-1]\n",
    "                        a_ex_ind = a_series.name\n",
    "                        G_dash.add_node(int(a_ex_ind))\n",
    "                        if a_series['I'] == 0:\n",
    "                            Ctx = Ctx.append(A_df.iloc[a_ex_ind])\n",
    "                    else:\n",
    "                        a_ex_ind = a_ex_ind[0]\n",
    "                    G_dash.add_edge(int(a_begin.name), int(a_ex_ind), label = v_id)\n",
    "t_end = time.time()"
   ]
  },
  {
   "cell_type": "code",
   "execution_count": null,
   "id": "d4a68ab3",
   "metadata": {},
   "outputs": [],
   "source": [
    "t_end - t_begin"
   ]
  },
  {
   "cell_type": "code",
   "execution_count": null,
   "id": "549ddb6a",
   "metadata": {},
   "outputs": [],
   "source": []
  }
 ],
 "metadata": {
  "kernelspec": {
   "display_name": "Python 3",
   "language": "python",
   "name": "python3"
  },
  "language_info": {
   "codemirror_mode": {
    "name": "ipython",
    "version": 3
   },
   "file_extension": ".py",
   "mimetype": "text/x-python",
   "name": "python",
   "nbconvert_exporter": "python",
   "pygments_lexer": "ipython3",
   "version": "3.8.10"
  }
 },
 "nbformat": 4,
 "nbformat_minor": 5
}
